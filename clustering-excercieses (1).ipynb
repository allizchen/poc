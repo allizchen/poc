{
 "cells": [
  {
   "cell_type": "code",
   "execution_count": 1,
   "id": "2270aa02",
   "metadata": {
    "_cell_guid": "b1076dfc-b9ad-4769-8c92-a6c4dae69d19",
    "_uuid": "8f2839f25d086af736a60e9eeb907d3b93b6e0e5",
    "execution": {
     "iopub.execute_input": "2023-03-14T15:09:15.570585Z",
     "iopub.status.busy": "2023-03-14T15:09:15.569064Z",
     "iopub.status.idle": "2023-03-14T15:09:18.247712Z",
     "shell.execute_reply": "2023-03-14T15:09:18.246363Z"
    },
    "papermill": {
     "duration": 2.698142,
     "end_time": "2023-03-14T15:09:18.251017",
     "exception": false,
     "start_time": "2023-03-14T15:09:15.552875",
     "status": "completed"
    },
    "tags": []
   },
   "outputs": [],
   "source": [
    "# Load Libraries\n",
    "import numpy as np # linear algebra\n",
    "import pandas as pd # dataframes\n",
    "import matplotlib.pyplot as plt # General visualisations\n",
    "import matplotlib.ticker as mtick # Axis visuals\n",
    "import seaborn as sns # Statistical visualisations\n",
    "import statsmodels.api as sm # Linear Regression"
   ]
  },
  {
   "cell_type": "code",
   "execution_count": 2,
   "id": "477e17ce",
   "metadata": {
    "execution": {
     "iopub.execute_input": "2023-03-14T15:09:18.279852Z",
     "iopub.status.busy": "2023-03-14T15:09:18.278740Z",
     "iopub.status.idle": "2023-03-14T15:09:20.270837Z",
     "shell.execute_reply": "2023-03-14T15:09:20.269745Z"
    },
    "papermill": {
     "duration": 2.009551,
     "end_time": "2023-03-14T15:09:20.273923",
     "exception": false,
     "start_time": "2023-03-14T15:09:18.264372",
     "status": "completed"
    },
    "tags": []
   },
   "outputs": [],
   "source": [
    "# load data into pandas dataframe\n",
    "df_customers = pd.read_csv(\"/kaggle/input/brazilian-ecommerce/olist_customers_dataset.csv\")\n",
    "df_orders = pd.read_csv(\"/kaggle/input/brazilian-ecommerce/olist_orders_dataset.csv\")\n",
    "df_payments = pd.read_csv(\"/kaggle/input/brazilian-ecommerce/olist_order_payments_dataset.csv\")\n",
    "df_items = pd.read_csv(\"/kaggle/input/brazilian-ecommerce/olist_order_items_dataset.csv\")\n",
    "df_products = pd.read_csv(\"/kaggle/input/brazilian-ecommerce/olist_products_dataset.csv\")"
   ]
  },
  {
   "cell_type": "code",
   "execution_count": 3,
   "id": "a70d4363",
   "metadata": {
    "execution": {
     "iopub.execute_input": "2023-03-14T15:09:20.302752Z",
     "iopub.status.busy": "2023-03-14T15:09:20.301520Z",
     "iopub.status.idle": "2023-03-14T15:09:20.307412Z",
     "shell.execute_reply": "2023-03-14T15:09:20.306282Z"
    },
    "papermill": {
     "duration": 0.022846,
     "end_time": "2023-03-14T15:09:20.309883",
     "exception": false,
     "start_time": "2023-03-14T15:09:20.287037",
     "status": "completed"
    },
    "tags": []
   },
   "outputs": [],
   "source": [
    "dfs = {\n",
    "    'customers': df_customers,\n",
    "    'orders': df_orders,\n",
    "    'payments': df_payments,\n",
    "    'items': df_items,\n",
    "    'products':df_products\n",
    "}"
   ]
  },
  {
   "cell_type": "code",
   "execution_count": 4,
   "id": "4742fd89",
   "metadata": {
    "execution": {
     "iopub.execute_input": "2023-03-14T15:09:20.339925Z",
     "iopub.status.busy": "2023-03-14T15:09:20.338643Z",
     "iopub.status.idle": "2023-03-14T15:09:20.573190Z",
     "shell.execute_reply": "2023-03-14T15:09:20.572017Z"
    },
    "papermill": {
     "duration": 0.251583,
     "end_time": "2023-03-14T15:09:20.576029",
     "exception": false,
     "start_time": "2023-03-14T15:09:20.324446",
     "status": "completed"
    },
    "tags": []
   },
   "outputs": [
    {
     "name": "stdout",
     "output_type": "stream",
     "text": [
      "customers: 99441 x 5\n",
      "customer_id                 0.0\n",
      "customer_unique_id          0.0\n",
      "customer_zip_code_prefix    0.0\n",
      "customer_city               0.0\n",
      "customer_state              0.0\n",
      "dtype: float64\n",
      "\n",
      "\n",
      "orders: 99441 x 8\n",
      "order_id                         0.000000\n",
      "customer_id                      0.000000\n",
      "order_status                     0.000000\n",
      "order_purchase_timestamp         0.000000\n",
      "order_approved_at                0.161159\n",
      "order_delivered_carrier_date     1.825759\n",
      "order_delivered_customer_date    3.073303\n",
      "order_estimated_delivery_date    0.000000\n",
      "dtype: float64\n",
      "\n",
      "\n",
      "payments: 103886 x 5\n",
      "order_id                0.0\n",
      "payment_sequential      0.0\n",
      "payment_type            0.0\n",
      "payment_installments    0.0\n",
      "payment_value           0.0\n",
      "dtype: float64\n",
      "\n",
      "\n",
      "items: 112650 x 7\n",
      "order_id               0.0\n",
      "order_item_id          0.0\n",
      "product_id             0.0\n",
      "seller_id              0.0\n",
      "shipping_limit_date    0.0\n",
      "price                  0.0\n",
      "freight_value          0.0\n",
      "dtype: float64\n",
      "\n",
      "\n",
      "products: 32951 x 9\n",
      "product_id                    0.000000\n",
      "product_category_name         1.886151\n",
      "product_name_lenght           1.886151\n",
      "product_description_lenght    1.886151\n",
      "product_photos_qty            1.886151\n",
      "product_weight_g              0.006070\n",
      "product_length_cm             0.006070\n",
      "product_height_cm             0.006070\n",
      "product_width_cm              0.006070\n",
      "dtype: float64\n",
      "\n",
      "\n",
      "\n",
      "\n"
     ]
    }
   ],
   "source": [
    "# show data shapes of each dataset and missing value \n",
    "for ds, df in dfs.items():\n",
    "    print('{}: {} x {}'.format(ds,df.shape[0], df.shape[1]))\n",
    "    print(df.isnull().sum()/df.count()*100)\n",
    "    print('\\n')\n",
    "print('\\n')"
   ]
  },
  {
   "cell_type": "code",
   "execution_count": 5,
   "id": "64ee6d16",
   "metadata": {
    "execution": {
     "iopub.execute_input": "2023-03-14T15:09:20.605180Z",
     "iopub.status.busy": "2023-03-14T15:09:20.603991Z",
     "iopub.status.idle": "2023-03-14T15:09:20.611274Z",
     "shell.execute_reply": "2023-03-14T15:09:20.610107Z"
    },
    "papermill": {
     "duration": 0.02422,
     "end_time": "2023-03-14T15:09:20.613729",
     "exception": false,
     "start_time": "2023-03-14T15:09:20.589509",
     "status": "completed"
    },
    "tags": []
   },
   "outputs": [
    {
     "name": "stdout",
     "output_type": "stream",
     "text": [
      "customers: 99441 x 5\n",
      "\n",
      "\n",
      "orders: 99441 x 8\n",
      "\n",
      "\n",
      "payments: 103886 x 5\n",
      "\n",
      "\n",
      "items: 112650 x 7\n",
      "\n",
      "\n",
      "products: 32951 x 9\n",
      "\n",
      "\n",
      "\n",
      "\n"
     ]
    }
   ],
   "source": [
    "# describe each dataset\n",
    "for ds, df in dfs.items():\n",
    "    print('{}: {} x {}'.format(ds,df.shape[0], df.shape[1]))\n",
    "    #print(df.describe())\n",
    "    print('\\n')\n",
    "print('\\n')"
   ]
  },
  {
   "cell_type": "markdown",
   "id": "e8feeb28",
   "metadata": {
    "papermill": {
     "duration": 0.012693,
     "end_time": "2023-03-14T15:09:20.639528",
     "exception": false,
     "start_time": "2023-03-14T15:09:20.626835",
     "status": "completed"
    },
    "tags": []
   },
   "source": [
    "# 2. Preparing Data"
   ]
  },
  {
   "cell_type": "markdown",
   "id": "5154e702",
   "metadata": {
    "papermill": {
     "duration": 0.01277,
     "end_time": "2023-03-14T15:09:20.665292",
     "exception": false,
     "start_time": "2023-03-14T15:09:20.652522",
     "status": "completed"
    },
    "tags": []
   },
   "source": [
    "## 2.1 order level aggregation"
   ]
  },
  {
   "cell_type": "code",
   "execution_count": 6,
   "id": "9decc1f2",
   "metadata": {
    "execution": {
     "iopub.execute_input": "2023-03-14T15:09:20.693196Z",
     "iopub.status.busy": "2023-03-14T15:09:20.692758Z",
     "iopub.status.idle": "2023-03-14T15:09:21.306183Z",
     "shell.execute_reply": "2023-03-14T15:09:21.304959Z"
    },
    "papermill": {
     "duration": 0.631105,
     "end_time": "2023-03-14T15:09:21.309291",
     "exception": false,
     "start_time": "2023-03-14T15:09:20.678186",
     "status": "completed"
    },
    "tags": []
   },
   "outputs": [],
   "source": [
    "# Merge order level data into one dataframe\n",
    "\n",
    "# Left join with payments data (1 to 1)\n",
    "dfm_orders = pd.merge(dfs['orders'], dfs['payments'],on=\"order_id\",how=\"left\")\\\n",
    "    .loc[:, ['customer_id', 'order_id','order_purchase_timestamp', 'payment_type','payment_value']]\n",
    "\n",
    "# Left join with items data ( 1 to N)\n",
    "dfm_orders = dfm_orders.merge(dfs['items'],on=\"order_id\",how=\"left\")\\\n",
    "    .loc[:, dfm_orders.columns.to_list() + ['order_item_id','product_id','seller_id', 'price', 'freight_value']]\n",
    "\n",
    "# Left join with products data ( 1 to 1)\n",
    "dfm_orders = dfm_orders.merge(dfs['products'],on=\"product_id\",how=\"left\")\\\n",
    "    .loc[:, dfm_orders.columns.to_list() + ['product_category_name']]\n",
    "\n",
    "# add derived purchase date info (year, month also available)\n",
    "dfm_orders.insert(dfm_orders.shape[1],\n",
    "                    'order_purchase_date',\n",
    "                    pd.to_datetime(dfm_orders.order_purchase_timestamp).dt.date\n",
    "                   )"
   ]
  },
  {
   "cell_type": "code",
   "execution_count": 7,
   "id": "6f5f6aa9",
   "metadata": {
    "execution": {
     "iopub.execute_input": "2023-03-14T15:09:21.337786Z",
     "iopub.status.busy": "2023-03-14T15:09:21.337374Z",
     "iopub.status.idle": "2023-03-14T15:09:21.346661Z",
     "shell.execute_reply": "2023-03-14T15:09:21.345527Z"
    },
    "papermill": {
     "duration": 0.026553,
     "end_time": "2023-03-14T15:09:21.349293",
     "exception": false,
     "start_time": "2023-03-14T15:09:21.322740",
     "status": "completed"
    },
    "tags": []
   },
   "outputs": [
    {
     "data": {
      "text/plain": [
       "(118434, 12)"
      ]
     },
     "execution_count": 7,
     "metadata": {},
     "output_type": "execute_result"
    }
   ],
   "source": [
    "dfm_orders.shape"
   ]
  },
  {
   "cell_type": "code",
   "execution_count": 8,
   "id": "70912dce",
   "metadata": {
    "execution": {
     "iopub.execute_input": "2023-03-14T15:09:21.378085Z",
     "iopub.status.busy": "2023-03-14T15:09:21.377662Z",
     "iopub.status.idle": "2023-03-14T15:09:21.440624Z",
     "shell.execute_reply": "2023-03-14T15:09:21.439452Z"
    },
    "papermill": {
     "duration": 0.080724,
     "end_time": "2023-03-14T15:09:21.443493",
     "exception": false,
     "start_time": "2023-03-14T15:09:21.362769",
     "status": "completed"
    },
    "tags": []
   },
   "outputs": [
    {
     "data": {
      "text/plain": [
       "customer_id                    0\n",
       "order_id                       0\n",
       "order_purchase_timestamp       0\n",
       "payment_type                   3\n",
       "payment_value                  3\n",
       "order_item_id                830\n",
       "product_id                   830\n",
       "seller_id                    830\n",
       "price                        830\n",
       "freight_value                830\n",
       "product_category_name       2528\n",
       "order_purchase_date            0\n",
       "dtype: int64"
      ]
     },
     "execution_count": 8,
     "metadata": {},
     "output_type": "execute_result"
    }
   ],
   "source": [
    "# check missing data\n",
    "dfm_orders.isnull().sum()"
   ]
  },
  {
   "cell_type": "code",
   "execution_count": 9,
   "id": "aa5323ae",
   "metadata": {
    "execution": {
     "iopub.execute_input": "2023-03-14T15:09:21.472070Z",
     "iopub.status.busy": "2023-03-14T15:09:21.471647Z",
     "iopub.status.idle": "2023-03-14T15:09:21.489930Z",
     "shell.execute_reply": "2023-03-14T15:09:21.489035Z"
    },
    "papermill": {
     "duration": 0.035251,
     "end_time": "2023-03-14T15:09:21.492175",
     "exception": false,
     "start_time": "2023-03-14T15:09:21.456924",
     "status": "completed"
    },
    "tags": []
   },
   "outputs": [
    {
     "data": {
      "text/plain": [
       "payment_type\n",
       "boleto         23037\n",
       "credit_card    87286\n",
       "debit_card      1698\n",
       "not_defined        3\n",
       "voucher         6407\n",
       "dtype: int64"
      ]
     },
     "execution_count": 9,
     "metadata": {},
     "output_type": "execute_result"
    }
   ],
   "source": [
    "# debug only\n",
    "dfm_orders.groupby('payment_type').size()"
   ]
  },
  {
   "cell_type": "code",
   "execution_count": 10,
   "id": "db7056d5",
   "metadata": {
    "execution": {
     "iopub.execute_input": "2023-03-14T15:09:21.521476Z",
     "iopub.status.busy": "2023-03-14T15:09:21.521041Z",
     "iopub.status.idle": "2023-03-14T15:09:21.577187Z",
     "shell.execute_reply": "2023-03-14T15:09:21.575941Z"
    },
    "papermill": {
     "duration": 0.074604,
     "end_time": "2023-03-14T15:09:21.580221",
     "exception": false,
     "start_time": "2023-03-14T15:09:21.505617",
     "status": "completed"
    },
    "tags": []
   },
   "outputs": [
    {
     "data": {
      "text/html": [
       "<div>\n",
       "<style scoped>\n",
       "    .dataframe tbody tr th:only-of-type {\n",
       "        vertical-align: middle;\n",
       "    }\n",
       "\n",
       "    .dataframe tbody tr th {\n",
       "        vertical-align: top;\n",
       "    }\n",
       "\n",
       "    .dataframe thead th {\n",
       "        text-align: right;\n",
       "    }\n",
       "</style>\n",
       "<table border=\"1\" class=\"dataframe\">\n",
       "  <thead>\n",
       "    <tr style=\"text-align: right;\">\n",
       "      <th></th>\n",
       "      <th>customer_id</th>\n",
       "      <th>order_id</th>\n",
       "      <th>order_purchase_timestamp</th>\n",
       "      <th>payment_type</th>\n",
       "      <th>payment_value</th>\n",
       "      <th>order_item_id</th>\n",
       "      <th>product_id</th>\n",
       "      <th>seller_id</th>\n",
       "      <th>price</th>\n",
       "      <th>freight_value</th>\n",
       "      <th>product_category_name</th>\n",
       "      <th>order_purchase_date</th>\n",
       "    </tr>\n",
       "  </thead>\n",
       "  <tbody>\n",
       "  </tbody>\n",
       "</table>\n",
       "</div>"
      ],
      "text/plain": [
       "Empty DataFrame\n",
       "Columns: [customer_id, order_id, order_purchase_timestamp, payment_type, payment_value, order_item_id, product_id, seller_id, price, freight_value, product_category_name, order_purchase_date]\n",
       "Index: []"
      ]
     },
     "execution_count": 10,
     "metadata": {},
     "output_type": "execute_result"
    }
   ],
   "source": [
    "# debug only\n",
    "dfm_orders[dfm_orders.order_purchase_date.isnull()]"
   ]
  },
  {
   "cell_type": "code",
   "execution_count": 11,
   "id": "32d7788b",
   "metadata": {
    "execution": {
     "iopub.execute_input": "2023-03-14T15:09:21.610380Z",
     "iopub.status.busy": "2023-03-14T15:09:21.609250Z",
     "iopub.status.idle": "2023-03-14T15:09:21.640114Z",
     "shell.execute_reply": "2023-03-14T15:09:21.638802Z"
    },
    "papermill": {
     "duration": 0.049397,
     "end_time": "2023-03-14T15:09:21.643512",
     "exception": false,
     "start_time": "2023-03-14T15:09:21.594115",
     "status": "completed"
    },
    "tags": []
   },
   "outputs": [],
   "source": [
    "# fill missing data of payment_value\n",
    "dfm_orders['payment_value'] = np.where(dfm_orders.payment_value.isnull(),dfm_orders.price+dfm_orders.freight_value, dfm_orders.payment_value)\n",
    "dfm_orders['payment_type'] = np.where(dfm_orders.payment_type.isnull(),'credit_card',dfm_orders.payment_type)\n",
    "dfm_orders['price'] = np.where(dfm_orders.price.isnull(),dfm_orders.payment_value, dfm_orders.price)\n",
    "dfm_orders['freight_value'] = np.where(dfm_orders.freight_value.isnull(),0, dfm_orders.freight_value)\n",
    "dfm_orders['product_category_name'] = np.where(dfm_orders.product_category_name.isnull(),'',dfm_orders.product_category_name)"
   ]
  },
  {
   "cell_type": "code",
   "execution_count": 12,
   "id": "326347da",
   "metadata": {
    "execution": {
     "iopub.execute_input": "2023-03-14T15:09:21.672529Z",
     "iopub.status.busy": "2023-03-14T15:09:21.672101Z",
     "iopub.status.idle": "2023-03-14T15:09:32.102189Z",
     "shell.execute_reply": "2023-03-14T15:09:32.100716Z"
    },
    "papermill": {
     "duration": 10.448488,
     "end_time": "2023-03-14T15:09:32.105513",
     "exception": false,
     "start_time": "2023-03-14T15:09:21.657025",
     "status": "completed"
    },
    "tags": []
   },
   "outputs": [],
   "source": [
    "agg_order = dfm_orders.groupby('order_id').agg({\n",
    " 'customer_id':'max',\n",
    " 'payment_value':'sum',\n",
    " 'price':'sum',\n",
    " 'freight_value':'sum',\n",
    " 'order_item_id':'count',\n",
    " 'product_category_name': lambda x: set(x),\n",
    " 'payment_type': lambda x: set(x),\n",
    "}).reset_index().rename(columns={\n",
    " 'customer_id':'customer_id',\n",
    " 'payment_value':'spend',\n",
    " 'price':'price',\n",
    " 'freight_value':'shipping_fee',\n",
    " 'order_item_id':'basket_size',\n",
    " 'product_category_name': 'product_categories',\n",
    " 'payment_type': 'payment_types'\n",
    "})"
   ]
  },
  {
   "cell_type": "code",
   "execution_count": 13,
   "id": "4c6850f8",
   "metadata": {
    "execution": {
     "iopub.execute_input": "2023-03-14T15:09:32.135801Z",
     "iopub.status.busy": "2023-03-14T15:09:32.134940Z",
     "iopub.status.idle": "2023-03-14T15:09:32.154678Z",
     "shell.execute_reply": "2023-03-14T15:09:32.153269Z"
    },
    "papermill": {
     "duration": 0.038395,
     "end_time": "2023-03-14T15:09:32.157881",
     "exception": false,
     "start_time": "2023-03-14T15:09:32.119486",
     "status": "completed"
    },
    "tags": []
   },
   "outputs": [
    {
     "data": {
      "text/html": [
       "<div>\n",
       "<style scoped>\n",
       "    .dataframe tbody tr th:only-of-type {\n",
       "        vertical-align: middle;\n",
       "    }\n",
       "\n",
       "    .dataframe tbody tr th {\n",
       "        vertical-align: top;\n",
       "    }\n",
       "\n",
       "    .dataframe thead th {\n",
       "        text-align: right;\n",
       "    }\n",
       "</style>\n",
       "<table border=\"1\" class=\"dataframe\">\n",
       "  <thead>\n",
       "    <tr style=\"text-align: right;\">\n",
       "      <th></th>\n",
       "      <th>order_id</th>\n",
       "      <th>customer_id</th>\n",
       "      <th>spend</th>\n",
       "      <th>price</th>\n",
       "      <th>shipping_fee</th>\n",
       "      <th>basket_size</th>\n",
       "      <th>product_categories</th>\n",
       "      <th>payment_types</th>\n",
       "    </tr>\n",
       "  </thead>\n",
       "  <tbody>\n",
       "    <tr>\n",
       "      <th>0</th>\n",
       "      <td>00010242fe8c5a6d1ba2dd792cb16214</td>\n",
       "      <td>3ce436f183e68e07877b285a838db11a</td>\n",
       "      <td>72.19</td>\n",
       "      <td>58.90</td>\n",
       "      <td>13.29</td>\n",
       "      <td>1</td>\n",
       "      <td>{cool_stuff}</td>\n",
       "      <td>{credit_card}</td>\n",
       "    </tr>\n",
       "    <tr>\n",
       "      <th>1</th>\n",
       "      <td>00018f77f2f0320c557190d7a144bdd3</td>\n",
       "      <td>f6dd3ec061db4e3987629fe6b26e5cce</td>\n",
       "      <td>259.83</td>\n",
       "      <td>239.90</td>\n",
       "      <td>19.93</td>\n",
       "      <td>1</td>\n",
       "      <td>{pet_shop}</td>\n",
       "      <td>{credit_card}</td>\n",
       "    </tr>\n",
       "    <tr>\n",
       "      <th>2</th>\n",
       "      <td>000229ec398224ef6ca0657da4fc703e</td>\n",
       "      <td>6489ae5e4333f3693df5ad4372dab6d3</td>\n",
       "      <td>216.87</td>\n",
       "      <td>199.00</td>\n",
       "      <td>17.87</td>\n",
       "      <td>1</td>\n",
       "      <td>{moveis_decoracao}</td>\n",
       "      <td>{credit_card}</td>\n",
       "    </tr>\n",
       "    <tr>\n",
       "      <th>3</th>\n",
       "      <td>00024acbcdf0a6daa1e931b038114c75</td>\n",
       "      <td>d4eb9395c8c0431ee92fce09860c5a06</td>\n",
       "      <td>25.78</td>\n",
       "      <td>12.99</td>\n",
       "      <td>12.79</td>\n",
       "      <td>1</td>\n",
       "      <td>{perfumaria}</td>\n",
       "      <td>{credit_card}</td>\n",
       "    </tr>\n",
       "    <tr>\n",
       "      <th>4</th>\n",
       "      <td>00042b26cf59d7ce69dfabb4e55b4fd9</td>\n",
       "      <td>58dbd0b2d70206bf40e62cd34e84d795</td>\n",
       "      <td>218.04</td>\n",
       "      <td>199.90</td>\n",
       "      <td>18.14</td>\n",
       "      <td>1</td>\n",
       "      <td>{ferramentas_jardim}</td>\n",
       "      <td>{credit_card}</td>\n",
       "    </tr>\n",
       "  </tbody>\n",
       "</table>\n",
       "</div>"
      ],
      "text/plain": [
       "                           order_id                       customer_id   spend  \\\n",
       "0  00010242fe8c5a6d1ba2dd792cb16214  3ce436f183e68e07877b285a838db11a   72.19   \n",
       "1  00018f77f2f0320c557190d7a144bdd3  f6dd3ec061db4e3987629fe6b26e5cce  259.83   \n",
       "2  000229ec398224ef6ca0657da4fc703e  6489ae5e4333f3693df5ad4372dab6d3  216.87   \n",
       "3  00024acbcdf0a6daa1e931b038114c75  d4eb9395c8c0431ee92fce09860c5a06   25.78   \n",
       "4  00042b26cf59d7ce69dfabb4e55b4fd9  58dbd0b2d70206bf40e62cd34e84d795  218.04   \n",
       "\n",
       "    price  shipping_fee  basket_size    product_categories  payment_types  \n",
       "0   58.90         13.29            1          {cool_stuff}  {credit_card}  \n",
       "1  239.90         19.93            1            {pet_shop}  {credit_card}  \n",
       "2  199.00         17.87            1    {moveis_decoracao}  {credit_card}  \n",
       "3   12.99         12.79            1          {perfumaria}  {credit_card}  \n",
       "4  199.90         18.14            1  {ferramentas_jardim}  {credit_card}  "
      ]
     },
     "execution_count": 13,
     "metadata": {},
     "output_type": "execute_result"
    }
   ],
   "source": [
    "agg_order.head()"
   ]
  },
  {
   "cell_type": "code",
   "execution_count": 14,
   "id": "ab8991db",
   "metadata": {
    "execution": {
     "iopub.execute_input": "2023-03-14T15:09:32.188933Z",
     "iopub.status.busy": "2023-03-14T15:09:32.188465Z",
     "iopub.status.idle": "2023-03-14T15:09:32.297073Z",
     "shell.execute_reply": "2023-03-14T15:09:32.295912Z"
    },
    "papermill": {
     "duration": 0.128343,
     "end_time": "2023-03-14T15:09:32.300382",
     "exception": false,
     "start_time": "2023-03-14T15:09:32.172039",
     "status": "completed"
    },
    "tags": []
   },
   "outputs": [],
   "source": [
    "# convert set to string\n",
    "#agg_order.drop(columns=['payment_type_set','product_cat_set'])\n",
    "agg_order['payment_types'] = agg_order['payment_types'].apply(lambda x: ','.join(x))\n",
    "agg_order['product_categories'] = agg_order['product_categories'].apply(lambda x: ','.join(x))"
   ]
  },
  {
   "cell_type": "code",
   "execution_count": 15,
   "id": "562a516c",
   "metadata": {
    "execution": {
     "iopub.execute_input": "2023-03-14T15:09:32.330808Z",
     "iopub.status.busy": "2023-03-14T15:09:32.330349Z",
     "iopub.status.idle": "2023-03-14T15:09:32.351411Z",
     "shell.execute_reply": "2023-03-14T15:09:32.350102Z"
    },
    "papermill": {
     "duration": 0.039949,
     "end_time": "2023-03-14T15:09:32.354340",
     "exception": false,
     "start_time": "2023-03-14T15:09:32.314391",
     "status": "completed"
    },
    "tags": []
   },
   "outputs": [
    {
     "data": {
      "text/plain": [
       "product_categories\n",
       "                                                           2164\n",
       ",automotivo                                                   1\n",
       ",beleza_saude                                                 2\n",
       ",brinquedos                                                   1\n",
       ",cama_mesa_banho                                              6\n",
       "                                                           ... \n",
       "utilidades_domesticas,construcao_ferramentas_construcao       1\n",
       "utilidades_domesticas,dvds_blu_ray                            1\n",
       "utilidades_domesticas,industria_comercio_e_negocios           1\n",
       "utilidades_domesticas,informatica_acessorios                  4\n",
       "utilidades_domesticas,livros_interesse_geral                  1\n",
       "Length: 346, dtype: int64"
      ]
     },
     "execution_count": 15,
     "metadata": {},
     "output_type": "execute_result"
    }
   ],
   "source": [
    "agg_order.groupby('product_categories').size()"
   ]
  },
  {
   "cell_type": "code",
   "execution_count": 16,
   "id": "cb553512",
   "metadata": {
    "execution": {
     "iopub.execute_input": "2023-03-14T15:09:32.384698Z",
     "iopub.status.busy": "2023-03-14T15:09:32.384279Z",
     "iopub.status.idle": "2023-03-14T15:09:32.402677Z",
     "shell.execute_reply": "2023-03-14T15:09:32.401463Z"
    },
    "papermill": {
     "duration": 0.036926,
     "end_time": "2023-03-14T15:09:32.405454",
     "exception": false,
     "start_time": "2023-03-14T15:09:32.368528",
     "status": "completed"
    },
    "tags": []
   },
   "outputs": [
    {
     "data": {
      "text/plain": [
       "payment_types\n",
       "boleto                    19784\n",
       "credit_card               74260\n",
       "debit_card                 1527\n",
       "debit_card,credit_card        1\n",
       "not_defined                   3\n",
       "voucher                    1621\n",
       "voucher,credit_card        2245\n",
       "dtype: int64"
      ]
     },
     "execution_count": 16,
     "metadata": {},
     "output_type": "execute_result"
    }
   ],
   "source": [
    "agg_order.groupby('payment_types').size()"
   ]
  },
  {
   "cell_type": "code",
   "execution_count": 17,
   "id": "c99e88f2",
   "metadata": {
    "execution": {
     "iopub.execute_input": "2023-03-14T15:09:32.435987Z",
     "iopub.status.busy": "2023-03-14T15:09:32.435553Z",
     "iopub.status.idle": "2023-03-14T15:09:32.450557Z",
     "shell.execute_reply": "2023-03-14T15:09:32.449655Z"
    },
    "papermill": {
     "duration": 0.032989,
     "end_time": "2023-03-14T15:09:32.452709",
     "exception": false,
     "start_time": "2023-03-14T15:09:32.419720",
     "status": "completed"
    },
    "tags": []
   },
   "outputs": [
    {
     "data": {
      "text/html": [
       "<div>\n",
       "<style scoped>\n",
       "    .dataframe tbody tr th:only-of-type {\n",
       "        vertical-align: middle;\n",
       "    }\n",
       "\n",
       "    .dataframe tbody tr th {\n",
       "        vertical-align: top;\n",
       "    }\n",
       "\n",
       "    .dataframe thead th {\n",
       "        text-align: right;\n",
       "    }\n",
       "</style>\n",
       "<table border=\"1\" class=\"dataframe\">\n",
       "  <thead>\n",
       "    <tr style=\"text-align: right;\">\n",
       "      <th></th>\n",
       "      <th>order_id</th>\n",
       "      <th>customer_id</th>\n",
       "      <th>spend</th>\n",
       "      <th>price</th>\n",
       "      <th>shipping_fee</th>\n",
       "      <th>basket_size</th>\n",
       "      <th>product_categories</th>\n",
       "      <th>payment_types</th>\n",
       "    </tr>\n",
       "  </thead>\n",
       "  <tbody>\n",
       "    <tr>\n",
       "      <th>0</th>\n",
       "      <td>00010242fe8c5a6d1ba2dd792cb16214</td>\n",
       "      <td>3ce436f183e68e07877b285a838db11a</td>\n",
       "      <td>72.19</td>\n",
       "      <td>58.90</td>\n",
       "      <td>13.29</td>\n",
       "      <td>1</td>\n",
       "      <td>cool_stuff</td>\n",
       "      <td>credit_card</td>\n",
       "    </tr>\n",
       "    <tr>\n",
       "      <th>1</th>\n",
       "      <td>00018f77f2f0320c557190d7a144bdd3</td>\n",
       "      <td>f6dd3ec061db4e3987629fe6b26e5cce</td>\n",
       "      <td>259.83</td>\n",
       "      <td>239.90</td>\n",
       "      <td>19.93</td>\n",
       "      <td>1</td>\n",
       "      <td>pet_shop</td>\n",
       "      <td>credit_card</td>\n",
       "    </tr>\n",
       "    <tr>\n",
       "      <th>2</th>\n",
       "      <td>000229ec398224ef6ca0657da4fc703e</td>\n",
       "      <td>6489ae5e4333f3693df5ad4372dab6d3</td>\n",
       "      <td>216.87</td>\n",
       "      <td>199.00</td>\n",
       "      <td>17.87</td>\n",
       "      <td>1</td>\n",
       "      <td>moveis_decoracao</td>\n",
       "      <td>credit_card</td>\n",
       "    </tr>\n",
       "    <tr>\n",
       "      <th>3</th>\n",
       "      <td>00024acbcdf0a6daa1e931b038114c75</td>\n",
       "      <td>d4eb9395c8c0431ee92fce09860c5a06</td>\n",
       "      <td>25.78</td>\n",
       "      <td>12.99</td>\n",
       "      <td>12.79</td>\n",
       "      <td>1</td>\n",
       "      <td>perfumaria</td>\n",
       "      <td>credit_card</td>\n",
       "    </tr>\n",
       "    <tr>\n",
       "      <th>4</th>\n",
       "      <td>00042b26cf59d7ce69dfabb4e55b4fd9</td>\n",
       "      <td>58dbd0b2d70206bf40e62cd34e84d795</td>\n",
       "      <td>218.04</td>\n",
       "      <td>199.90</td>\n",
       "      <td>18.14</td>\n",
       "      <td>1</td>\n",
       "      <td>ferramentas_jardim</td>\n",
       "      <td>credit_card</td>\n",
       "    </tr>\n",
       "  </tbody>\n",
       "</table>\n",
       "</div>"
      ],
      "text/plain": [
       "                           order_id                       customer_id   spend  \\\n",
       "0  00010242fe8c5a6d1ba2dd792cb16214  3ce436f183e68e07877b285a838db11a   72.19   \n",
       "1  00018f77f2f0320c557190d7a144bdd3  f6dd3ec061db4e3987629fe6b26e5cce  259.83   \n",
       "2  000229ec398224ef6ca0657da4fc703e  6489ae5e4333f3693df5ad4372dab6d3  216.87   \n",
       "3  00024acbcdf0a6daa1e931b038114c75  d4eb9395c8c0431ee92fce09860c5a06   25.78   \n",
       "4  00042b26cf59d7ce69dfabb4e55b4fd9  58dbd0b2d70206bf40e62cd34e84d795  218.04   \n",
       "\n",
       "    price  shipping_fee  basket_size  product_categories payment_types  \n",
       "0   58.90         13.29            1          cool_stuff   credit_card  \n",
       "1  239.90         19.93            1            pet_shop   credit_card  \n",
       "2  199.00         17.87            1    moveis_decoracao   credit_card  \n",
       "3   12.99         12.79            1          perfumaria   credit_card  \n",
       "4  199.90         18.14            1  ferramentas_jardim   credit_card  "
      ]
     },
     "execution_count": 17,
     "metadata": {},
     "output_type": "execute_result"
    }
   ],
   "source": [
    "agg_order.head()"
   ]
  },
  {
   "cell_type": "markdown",
   "id": "a31d27b5",
   "metadata": {
    "papermill": {
     "duration": 0.014056,
     "end_time": "2023-03-14T15:09:32.481350",
     "exception": false,
     "start_time": "2023-03-14T15:09:32.467294",
     "status": "completed"
    },
    "tags": []
   },
   "source": [
    "## 2.2 build customer level modellig dataset"
   ]
  },
  {
   "cell_type": "code",
   "execution_count": 18,
   "id": "2c4cadaf",
   "metadata": {
    "execution": {
     "iopub.execute_input": "2023-03-14T15:09:32.512138Z",
     "iopub.status.busy": "2023-03-14T15:09:32.511700Z",
     "iopub.status.idle": "2023-03-14T15:09:34.690046Z",
     "shell.execute_reply": "2023-03-14T15:09:34.688537Z"
    },
    "papermill": {
     "duration": 2.197778,
     "end_time": "2023-03-14T15:09:34.693482",
     "exception": false,
     "start_time": "2023-03-14T15:09:32.495704",
     "status": "completed"
    },
    "tags": []
   },
   "outputs": [],
   "source": [
    "# aggregation at customer level\n",
    "dfm_customer = pd.merge(agg_order, dfs['customers'], on='customer_id',how='inner')\\\n",
    "    .loc[:,agg_order.columns.to_list() + ['customer_unique_id','customer_state']]\n",
    "\n",
    "agg_customer = dfm_customer.groupby('customer_unique_id').agg({\n",
    "    'order_id':'count',\n",
    "    'spend':'sum',\n",
    "    'basket_size':'sum',\n",
    "    'product_categories': lambda x: set(x),\n",
    "    'payment_types': lambda x: set(x)\n",
    "    \n",
    "}).reset_index().rename(columns={\n",
    "    'order_id':'orders',\n",
    "    'spend':'total_spend',\n",
    "    'basket_size':'basket_size',\n",
    "    'product_categories': 'product_categories',\n",
    "    'payment_types': 'payment_types'\n",
    "})"
   ]
  },
  {
   "cell_type": "code",
   "execution_count": 19,
   "id": "11fba35a",
   "metadata": {
    "execution": {
     "iopub.execute_input": "2023-03-14T15:09:34.725105Z",
     "iopub.status.busy": "2023-03-14T15:09:34.724193Z",
     "iopub.status.idle": "2023-03-14T15:09:34.741472Z",
     "shell.execute_reply": "2023-03-14T15:09:34.740082Z"
    },
    "papermill": {
     "duration": 0.036346,
     "end_time": "2023-03-14T15:09:34.744425",
     "exception": false,
     "start_time": "2023-03-14T15:09:34.708079",
     "status": "completed"
    },
    "tags": []
   },
   "outputs": [
    {
     "data": {
      "text/html": [
       "<div>\n",
       "<style scoped>\n",
       "    .dataframe tbody tr th:only-of-type {\n",
       "        vertical-align: middle;\n",
       "    }\n",
       "\n",
       "    .dataframe tbody tr th {\n",
       "        vertical-align: top;\n",
       "    }\n",
       "\n",
       "    .dataframe thead th {\n",
       "        text-align: right;\n",
       "    }\n",
       "</style>\n",
       "<table border=\"1\" class=\"dataframe\">\n",
       "  <thead>\n",
       "    <tr style=\"text-align: right;\">\n",
       "      <th></th>\n",
       "      <th>customer_unique_id</th>\n",
       "      <th>orders</th>\n",
       "      <th>total_spend</th>\n",
       "      <th>basket_size</th>\n",
       "      <th>product_categories</th>\n",
       "      <th>payment_types</th>\n",
       "    </tr>\n",
       "  </thead>\n",
       "  <tbody>\n",
       "    <tr>\n",
       "      <th>0</th>\n",
       "      <td>0000366f3b9a7992bf8c76cfdf3221e2</td>\n",
       "      <td>1</td>\n",
       "      <td>141.90</td>\n",
       "      <td>1</td>\n",
       "      <td>{cama_mesa_banho}</td>\n",
       "      <td>{credit_card}</td>\n",
       "    </tr>\n",
       "    <tr>\n",
       "      <th>1</th>\n",
       "      <td>0000b849f77a49e4a4ce2b2a4ca5be3f</td>\n",
       "      <td>1</td>\n",
       "      <td>27.19</td>\n",
       "      <td>1</td>\n",
       "      <td>{beleza_saude}</td>\n",
       "      <td>{credit_card}</td>\n",
       "    </tr>\n",
       "    <tr>\n",
       "      <th>2</th>\n",
       "      <td>0000f46a3911fa3c0805444483337064</td>\n",
       "      <td>1</td>\n",
       "      <td>86.22</td>\n",
       "      <td>1</td>\n",
       "      <td>{papelaria}</td>\n",
       "      <td>{credit_card}</td>\n",
       "    </tr>\n",
       "    <tr>\n",
       "      <th>3</th>\n",
       "      <td>0000f6ccb0745a6a4b88665a16c9f078</td>\n",
       "      <td>1</td>\n",
       "      <td>43.62</td>\n",
       "      <td>1</td>\n",
       "      <td>{telefonia}</td>\n",
       "      <td>{credit_card}</td>\n",
       "    </tr>\n",
       "    <tr>\n",
       "      <th>4</th>\n",
       "      <td>0004aac84e0df4da2b147fca70cf8255</td>\n",
       "      <td>1</td>\n",
       "      <td>196.89</td>\n",
       "      <td>1</td>\n",
       "      <td>{telefonia}</td>\n",
       "      <td>{credit_card}</td>\n",
       "    </tr>\n",
       "  </tbody>\n",
       "</table>\n",
       "</div>"
      ],
      "text/plain": [
       "                 customer_unique_id  orders  total_spend  basket_size  \\\n",
       "0  0000366f3b9a7992bf8c76cfdf3221e2       1       141.90            1   \n",
       "1  0000b849f77a49e4a4ce2b2a4ca5be3f       1        27.19            1   \n",
       "2  0000f46a3911fa3c0805444483337064       1        86.22            1   \n",
       "3  0000f6ccb0745a6a4b88665a16c9f078       1        43.62            1   \n",
       "4  0004aac84e0df4da2b147fca70cf8255       1       196.89            1   \n",
       "\n",
       "  product_categories  payment_types  \n",
       "0  {cama_mesa_banho}  {credit_card}  \n",
       "1     {beleza_saude}  {credit_card}  \n",
       "2        {papelaria}  {credit_card}  \n",
       "3        {telefonia}  {credit_card}  \n",
       "4        {telefonia}  {credit_card}  "
      ]
     },
     "execution_count": 19,
     "metadata": {},
     "output_type": "execute_result"
    }
   ],
   "source": [
    "# debug\n",
    "#agg_customer.dtypes\n",
    "agg_customer.head()"
   ]
  },
  {
   "cell_type": "code",
   "execution_count": 20,
   "id": "d9468def",
   "metadata": {
    "execution": {
     "iopub.execute_input": "2023-03-14T15:09:34.776594Z",
     "iopub.status.busy": "2023-03-14T15:09:34.776129Z",
     "iopub.status.idle": "2023-03-14T15:09:34.977098Z",
     "shell.execute_reply": "2023-03-14T15:09:34.975201Z"
    },
    "papermill": {
     "duration": 0.21992,
     "end_time": "2023-03-14T15:09:34.979304",
     "exception": true,
     "start_time": "2023-03-14T15:09:34.759384",
     "status": "failed"
    },
    "tags": []
   },
   "outputs": [
    {
     "ename": "TypeError",
     "evalue": "unhashable type: 'set'",
     "output_type": "error",
     "traceback": [
      "\u001b[0;31m---------------------------------------------------------------------------\u001b[0m",
      "\u001b[0;31mTypeError\u001b[0m                                 Traceback (most recent call last)",
      "\u001b[0;32m/tmp/ipykernel_19/934953423.py\u001b[0m in \u001b[0;36m<module>\u001b[0;34m\u001b[0m\n\u001b[0;32m----> 1\u001b[0;31m \u001b[0magg_customer\u001b[0m\u001b[0;34m.\u001b[0m\u001b[0mgroupby\u001b[0m\u001b[0;34m(\u001b[0m\u001b[0;34m'product_categories'\u001b[0m\u001b[0;34m)\u001b[0m\u001b[0;34m.\u001b[0m\u001b[0msize\u001b[0m\u001b[0;34m(\u001b[0m\u001b[0;34m)\u001b[0m\u001b[0;34m\u001b[0m\u001b[0;34m\u001b[0m\u001b[0m\n\u001b[0m",
      "\u001b[0;32m/opt/conda/lib/python3.7/site-packages/pandas/core/groupby/groupby.py\u001b[0m in \u001b[0;36msize\u001b[0;34m(self)\u001b[0m\n\u001b[1;32m   1823\u001b[0m             \u001b[0;32mor\u001b[0m \u001b[0ma\u001b[0m \u001b[0mDataFrame\u001b[0m \u001b[0;32mif\u001b[0m \u001b[0mas_index\u001b[0m \u001b[0;32mis\u001b[0m \u001b[0;32mFalse\u001b[0m\u001b[0;34m.\u001b[0m\u001b[0;34m\u001b[0m\u001b[0;34m\u001b[0m\u001b[0m\n\u001b[1;32m   1824\u001b[0m         \"\"\"\n\u001b[0;32m-> 1825\u001b[0;31m         \u001b[0mresult\u001b[0m \u001b[0;34m=\u001b[0m \u001b[0mself\u001b[0m\u001b[0;34m.\u001b[0m\u001b[0mgrouper\u001b[0m\u001b[0;34m.\u001b[0m\u001b[0msize\u001b[0m\u001b[0;34m(\u001b[0m\u001b[0;34m)\u001b[0m\u001b[0;34m\u001b[0m\u001b[0;34m\u001b[0m\u001b[0m\n\u001b[0m\u001b[1;32m   1826\u001b[0m \u001b[0;34m\u001b[0m\u001b[0m\n\u001b[1;32m   1827\u001b[0m         \u001b[0;31m# GH28330 preserve subclassed Series/DataFrames through calls\u001b[0m\u001b[0;34m\u001b[0m\u001b[0;34m\u001b[0m\u001b[0;34m\u001b[0m\u001b[0m\n",
      "\u001b[0;32m/opt/conda/lib/python3.7/site-packages/pandas/core/groupby/ops.py\u001b[0m in \u001b[0;36msize\u001b[0;34m(self)\u001b[0m\n\u001b[1;32m    884\u001b[0m         \u001b[0mCompute\u001b[0m \u001b[0mgroup\u001b[0m \u001b[0msizes\u001b[0m\u001b[0;34m.\u001b[0m\u001b[0;34m\u001b[0m\u001b[0;34m\u001b[0m\u001b[0m\n\u001b[1;32m    885\u001b[0m         \"\"\"\n\u001b[0;32m--> 886\u001b[0;31m         \u001b[0mids\u001b[0m\u001b[0;34m,\u001b[0m \u001b[0m_\u001b[0m\u001b[0;34m,\u001b[0m \u001b[0mngroups\u001b[0m \u001b[0;34m=\u001b[0m \u001b[0mself\u001b[0m\u001b[0;34m.\u001b[0m\u001b[0mgroup_info\u001b[0m\u001b[0;34m\u001b[0m\u001b[0;34m\u001b[0m\u001b[0m\n\u001b[0m\u001b[1;32m    887\u001b[0m         \u001b[0;32mif\u001b[0m \u001b[0mngroups\u001b[0m\u001b[0;34m:\u001b[0m\u001b[0;34m\u001b[0m\u001b[0;34m\u001b[0m\u001b[0m\n\u001b[1;32m    888\u001b[0m             \u001b[0mout\u001b[0m \u001b[0;34m=\u001b[0m \u001b[0mnp\u001b[0m\u001b[0;34m.\u001b[0m\u001b[0mbincount\u001b[0m\u001b[0;34m(\u001b[0m\u001b[0mids\u001b[0m\u001b[0;34m[\u001b[0m\u001b[0mids\u001b[0m \u001b[0;34m!=\u001b[0m \u001b[0;34m-\u001b[0m\u001b[0;36m1\u001b[0m\u001b[0;34m]\u001b[0m\u001b[0;34m,\u001b[0m \u001b[0mminlength\u001b[0m\u001b[0;34m=\u001b[0m\u001b[0mngroups\u001b[0m\u001b[0;34m)\u001b[0m\u001b[0;34m\u001b[0m\u001b[0;34m\u001b[0m\u001b[0m\n",
      "\u001b[0;32m/opt/conda/lib/python3.7/site-packages/pandas/_libs/properties.pyx\u001b[0m in \u001b[0;36mpandas._libs.properties.CachedProperty.__get__\u001b[0;34m()\u001b[0m\n",
      "\u001b[0;32m/opt/conda/lib/python3.7/site-packages/pandas/core/groupby/ops.py\u001b[0m in \u001b[0;36mgroup_info\u001b[0;34m(self)\u001b[0m\n\u001b[1;32m    909\u001b[0m     \u001b[0;34m@\u001b[0m\u001b[0mcache_readonly\u001b[0m\u001b[0;34m\u001b[0m\u001b[0;34m\u001b[0m\u001b[0m\n\u001b[1;32m    910\u001b[0m     \u001b[0;32mdef\u001b[0m \u001b[0mgroup_info\u001b[0m\u001b[0;34m(\u001b[0m\u001b[0mself\u001b[0m\u001b[0;34m)\u001b[0m\u001b[0;34m:\u001b[0m\u001b[0;34m\u001b[0m\u001b[0;34m\u001b[0m\u001b[0m\n\u001b[0;32m--> 911\u001b[0;31m         \u001b[0mcomp_ids\u001b[0m\u001b[0;34m,\u001b[0m \u001b[0mobs_group_ids\u001b[0m \u001b[0;34m=\u001b[0m \u001b[0mself\u001b[0m\u001b[0;34m.\u001b[0m\u001b[0m_get_compressed_codes\u001b[0m\u001b[0;34m(\u001b[0m\u001b[0;34m)\u001b[0m\u001b[0;34m\u001b[0m\u001b[0;34m\u001b[0m\u001b[0m\n\u001b[0m\u001b[1;32m    912\u001b[0m \u001b[0;34m\u001b[0m\u001b[0m\n\u001b[1;32m    913\u001b[0m         \u001b[0mngroups\u001b[0m \u001b[0;34m=\u001b[0m \u001b[0mlen\u001b[0m\u001b[0;34m(\u001b[0m\u001b[0mobs_group_ids\u001b[0m\u001b[0;34m)\u001b[0m\u001b[0;34m\u001b[0m\u001b[0;34m\u001b[0m\u001b[0m\n",
      "\u001b[0;32m/opt/conda/lib/python3.7/site-packages/pandas/core/groupby/ops.py\u001b[0m in \u001b[0;36m_get_compressed_codes\u001b[0;34m(self)\u001b[0m\n\u001b[1;32m    933\u001b[0m \u001b[0;34m\u001b[0m\u001b[0m\n\u001b[1;32m    934\u001b[0m         \u001b[0mping\u001b[0m \u001b[0;34m=\u001b[0m \u001b[0mself\u001b[0m\u001b[0;34m.\u001b[0m\u001b[0mgroupings\u001b[0m\u001b[0;34m[\u001b[0m\u001b[0;36m0\u001b[0m\u001b[0;34m]\u001b[0m\u001b[0;34m\u001b[0m\u001b[0;34m\u001b[0m\u001b[0m\n\u001b[0;32m--> 935\u001b[0;31m         \u001b[0;32mreturn\u001b[0m \u001b[0mping\u001b[0m\u001b[0;34m.\u001b[0m\u001b[0mcodes\u001b[0m\u001b[0;34m,\u001b[0m \u001b[0mnp\u001b[0m\u001b[0;34m.\u001b[0m\u001b[0marange\u001b[0m\u001b[0;34m(\u001b[0m\u001b[0mlen\u001b[0m\u001b[0;34m(\u001b[0m\u001b[0mping\u001b[0m\u001b[0;34m.\u001b[0m\u001b[0mgroup_index\u001b[0m\u001b[0;34m)\u001b[0m\u001b[0;34m)\u001b[0m\u001b[0;34m\u001b[0m\u001b[0;34m\u001b[0m\u001b[0m\n\u001b[0m\u001b[1;32m    936\u001b[0m \u001b[0;34m\u001b[0m\u001b[0m\n\u001b[1;32m    937\u001b[0m     \u001b[0;34m@\u001b[0m\u001b[0mfinal\u001b[0m\u001b[0;34m\u001b[0m\u001b[0;34m\u001b[0m\u001b[0m\n",
      "\u001b[0;32m/opt/conda/lib/python3.7/site-packages/pandas/core/groupby/grouper.py\u001b[0m in \u001b[0;36mcodes\u001b[0;34m(self)\u001b[0m\n\u001b[1;32m    610\u001b[0m             \u001b[0;32mreturn\u001b[0m \u001b[0mself\u001b[0m\u001b[0;34m.\u001b[0m\u001b[0m_codes\u001b[0m\u001b[0;34m\u001b[0m\u001b[0;34m\u001b[0m\u001b[0m\n\u001b[1;32m    611\u001b[0m \u001b[0;34m\u001b[0m\u001b[0m\n\u001b[0;32m--> 612\u001b[0;31m         \u001b[0;32mreturn\u001b[0m \u001b[0mself\u001b[0m\u001b[0;34m.\u001b[0m\u001b[0m_codes_and_uniques\u001b[0m\u001b[0;34m[\u001b[0m\u001b[0;36m0\u001b[0m\u001b[0;34m]\u001b[0m\u001b[0;34m\u001b[0m\u001b[0;34m\u001b[0m\u001b[0m\n\u001b[0m\u001b[1;32m    613\u001b[0m \u001b[0;34m\u001b[0m\u001b[0m\n\u001b[1;32m    614\u001b[0m     \u001b[0;34m@\u001b[0m\u001b[0mcache_readonly\u001b[0m\u001b[0;34m\u001b[0m\u001b[0;34m\u001b[0m\u001b[0m\n",
      "\u001b[0;32m/opt/conda/lib/python3.7/site-packages/pandas/_libs/properties.pyx\u001b[0m in \u001b[0;36mpandas._libs.properties.CachedProperty.__get__\u001b[0;34m()\u001b[0m\n",
      "\u001b[0;32m/opt/conda/lib/python3.7/site-packages/pandas/core/groupby/grouper.py\u001b[0m in \u001b[0;36m_codes_and_uniques\u001b[0;34m(self)\u001b[0m\n\u001b[1;32m    669\u001b[0m                 \u001b[0mna_sentinel\u001b[0m \u001b[0;34m=\u001b[0m \u001b[0;34m-\u001b[0m\u001b[0;36m1\u001b[0m\u001b[0;34m\u001b[0m\u001b[0;34m\u001b[0m\u001b[0m\n\u001b[1;32m    670\u001b[0m             codes, uniques = algorithms.factorize(\n\u001b[0;32m--> 671\u001b[0;31m                 \u001b[0mself\u001b[0m\u001b[0;34m.\u001b[0m\u001b[0mgrouping_vector\u001b[0m\u001b[0;34m,\u001b[0m \u001b[0msort\u001b[0m\u001b[0;34m=\u001b[0m\u001b[0mself\u001b[0m\u001b[0;34m.\u001b[0m\u001b[0m_sort\u001b[0m\u001b[0;34m,\u001b[0m \u001b[0mna_sentinel\u001b[0m\u001b[0;34m=\u001b[0m\u001b[0mna_sentinel\u001b[0m\u001b[0;34m\u001b[0m\u001b[0;34m\u001b[0m\u001b[0m\n\u001b[0m\u001b[1;32m    672\u001b[0m             )\n\u001b[1;32m    673\u001b[0m         \u001b[0;32mreturn\u001b[0m \u001b[0mcodes\u001b[0m\u001b[0;34m,\u001b[0m \u001b[0muniques\u001b[0m\u001b[0;34m\u001b[0m\u001b[0;34m\u001b[0m\u001b[0m\n",
      "\u001b[0;32m/opt/conda/lib/python3.7/site-packages/pandas/core/algorithms.py\u001b[0m in \u001b[0;36mfactorize\u001b[0;34m(values, sort, na_sentinel, size_hint)\u001b[0m\n\u001b[1;32m    760\u001b[0m \u001b[0;34m\u001b[0m\u001b[0m\n\u001b[1;32m    761\u001b[0m         codes, uniques = factorize_array(\n\u001b[0;32m--> 762\u001b[0;31m             \u001b[0mvalues\u001b[0m\u001b[0;34m,\u001b[0m \u001b[0mna_sentinel\u001b[0m\u001b[0;34m=\u001b[0m\u001b[0mna_sentinel\u001b[0m\u001b[0;34m,\u001b[0m \u001b[0msize_hint\u001b[0m\u001b[0;34m=\u001b[0m\u001b[0msize_hint\u001b[0m\u001b[0;34m,\u001b[0m \u001b[0mna_value\u001b[0m\u001b[0;34m=\u001b[0m\u001b[0mna_value\u001b[0m\u001b[0;34m\u001b[0m\u001b[0;34m\u001b[0m\u001b[0m\n\u001b[0m\u001b[1;32m    763\u001b[0m         )\n\u001b[1;32m    764\u001b[0m \u001b[0;34m\u001b[0m\u001b[0m\n",
      "\u001b[0;32m/opt/conda/lib/python3.7/site-packages/pandas/core/algorithms.py\u001b[0m in \u001b[0;36mfactorize_array\u001b[0;34m(values, na_sentinel, size_hint, na_value, mask)\u001b[0m\n\u001b[1;32m    562\u001b[0m     \u001b[0mtable\u001b[0m \u001b[0;34m=\u001b[0m \u001b[0mhash_klass\u001b[0m\u001b[0;34m(\u001b[0m\u001b[0msize_hint\u001b[0m \u001b[0;32mor\u001b[0m \u001b[0mlen\u001b[0m\u001b[0;34m(\u001b[0m\u001b[0mvalues\u001b[0m\u001b[0;34m)\u001b[0m\u001b[0;34m)\u001b[0m\u001b[0;34m\u001b[0m\u001b[0;34m\u001b[0m\u001b[0m\n\u001b[1;32m    563\u001b[0m     uniques, codes = table.factorize(\n\u001b[0;32m--> 564\u001b[0;31m         \u001b[0mvalues\u001b[0m\u001b[0;34m,\u001b[0m \u001b[0mna_sentinel\u001b[0m\u001b[0;34m=\u001b[0m\u001b[0mna_sentinel\u001b[0m\u001b[0;34m,\u001b[0m \u001b[0mna_value\u001b[0m\u001b[0;34m=\u001b[0m\u001b[0mna_value\u001b[0m\u001b[0;34m,\u001b[0m \u001b[0mmask\u001b[0m\u001b[0;34m=\u001b[0m\u001b[0mmask\u001b[0m\u001b[0;34m\u001b[0m\u001b[0;34m\u001b[0m\u001b[0m\n\u001b[0m\u001b[1;32m    565\u001b[0m     )\n\u001b[1;32m    566\u001b[0m \u001b[0;34m\u001b[0m\u001b[0m\n",
      "\u001b[0;32mpandas/_libs/hashtable_class_helper.pxi\u001b[0m in \u001b[0;36mpandas._libs.hashtable.PyObjectHashTable.factorize\u001b[0;34m()\u001b[0m\n",
      "\u001b[0;32mpandas/_libs/hashtable_class_helper.pxi\u001b[0m in \u001b[0;36mpandas._libs.hashtable.PyObjectHashTable._unique\u001b[0;34m()\u001b[0m\n",
      "\u001b[0;31mTypeError\u001b[0m: unhashable type: 'set'"
     ]
    }
   ],
   "source": [
    "agg_customer.groupby('product_categories').size()"
   ]
  },
  {
   "cell_type": "code",
   "execution_count": null,
   "id": "8622b890",
   "metadata": {
    "execution": {
     "iopub.execute_input": "2023-03-14T11:21:45.548228Z",
     "iopub.status.busy": "2023-03-14T11:21:45.547774Z",
     "iopub.status.idle": "2023-03-14T11:21:45.792712Z",
     "shell.execute_reply": "2023-03-14T11:21:45.791560Z",
     "shell.execute_reply.started": "2023-03-14T11:21:45.548187Z"
    },
    "papermill": {
     "duration": null,
     "end_time": null,
     "exception": null,
     "start_time": null,
     "status": "pending"
    },
    "tags": []
   },
   "outputs": [],
   "source": [
    "# convert lists to categorical \n",
    "# agg_customer.drop(columns=['product_categories_set','payment_types_set'],inplace=True)\n",
    "agg_customer['product_categories'] = agg_customer['product_categories'].apply(\n",
    "    lambda x: ','.join(set(','.join(x).split(','))))\n",
    "agg_customer['payment_types'] = agg_customer['payment_types'].apply(\n",
    "    lambda x: ','.join(set(','.join(x).split(','))))"
   ]
  },
  {
   "cell_type": "code",
   "execution_count": null,
   "id": "fc376c87",
   "metadata": {
    "execution": {
     "iopub.execute_input": "2023-03-14T11:39:40.312041Z",
     "iopub.status.busy": "2023-03-14T11:39:40.311205Z",
     "iopub.status.idle": "2023-03-14T11:39:40.335063Z",
     "shell.execute_reply": "2023-03-14T11:39:40.333810Z",
     "shell.execute_reply.started": "2023-03-14T11:39:40.311981Z"
    },
    "papermill": {
     "duration": null,
     "end_time": null,
     "exception": null,
     "start_time": null,
     "status": "pending"
    },
    "tags": []
   },
   "outputs": [],
   "source": [
    "#debug only\n",
    "agg_customer.groupby('product_categories').size()"
   ]
  },
  {
   "cell_type": "code",
   "execution_count": null,
   "id": "a0572837",
   "metadata": {
    "execution": {
     "iopub.execute_input": "2023-03-14T11:56:34.249223Z",
     "iopub.status.busy": "2023-03-14T11:56:34.248837Z",
     "iopub.status.idle": "2023-03-14T11:56:34.266286Z",
     "shell.execute_reply": "2023-03-14T11:56:34.264970Z",
     "shell.execute_reply.started": "2023-03-14T11:56:34.249191Z"
    },
    "papermill": {
     "duration": null,
     "end_time": null,
     "exception": null,
     "start_time": null,
     "status": "pending"
    },
    "tags": []
   },
   "outputs": [],
   "source": [
    "#agg_customer['total_spend'].hist()\n",
    "#sns.boxplot(x=agg_customer['total_spend'])\n",
    "agg_customer['total_spend'].describe()"
   ]
  },
  {
   "cell_type": "code",
   "execution_count": null,
   "id": "178a3080",
   "metadata": {
    "execution": {
     "iopub.execute_input": "2023-03-14T11:56:29.997234Z",
     "iopub.status.busy": "2023-03-14T11:56:29.996813Z",
     "iopub.status.idle": "2023-03-14T11:56:30.040963Z",
     "shell.execute_reply": "2023-03-14T11:56:30.039437Z",
     "shell.execute_reply.started": "2023-03-14T11:56:29.997198Z"
    },
    "papermill": {
     "duration": null,
     "end_time": null,
     "exception": null,
     "start_time": null,
     "status": "pending"
    },
    "tags": []
   },
   "outputs": [],
   "source": [
    "# Normalize columns\n",
    "#agg_customer['payment_types'] = agg_customer['payment_types'].apply(lambda x: x if len(x.split(','))==1 and x != 'not_defined' else ('credit_card,others' if 'credit_card_with_others' in x.split(',')  else 'others') )\n",
    "#agg_customer['product_categories'] = agg_customer['product_categories'].apply(lambda x: x if len(x.split(','))==1 else 'multiple')\n",
    "#agg_customer['basket_size'] = agg_customer['basket_size'].apply(lambda x: 8 if x >7 else x)\n",
    "#agg_customer['orders'] = agg_customer['orders'].apply(lambda x: 3 if x >2 else x)\n",
    "agg_customer['total_spend'] = agg_customer['total_spend'].apply(lambda x: 200 if x >=200 else x)"
   ]
  },
  {
   "cell_type": "code",
   "execution_count": null,
   "id": "f9968c31",
   "metadata": {
    "execution": {
     "iopub.execute_input": "2023-03-14T11:22:02.105589Z",
     "iopub.status.busy": "2023-03-14T11:22:02.104433Z",
     "iopub.status.idle": "2023-03-14T11:22:02.276839Z",
     "shell.execute_reply": "2023-03-14T11:22:02.275620Z",
     "shell.execute_reply.started": "2023-03-14T11:22:02.105541Z"
    },
    "papermill": {
     "duration": null,
     "end_time": null,
     "exception": null,
     "start_time": null,
     "status": "pending"
    },
    "tags": []
   },
   "outputs": [],
   "source": [
    "# add dimension \n",
    "agg_customer = agg_customer.merge(dfs['customers'], on=\"customer_unique_id\", how=\"inner\")\\\n",
    "    .loc[:, agg_customer.columns.to_list() + ['customer_state']]"
   ]
  },
  {
   "cell_type": "code",
   "execution_count": null,
   "id": "4db1c042",
   "metadata": {
    "execution": {
     "iopub.execute_input": "2023-03-14T11:51:50.747272Z",
     "iopub.status.busy": "2023-03-14T11:51:50.746606Z",
     "iopub.status.idle": "2023-03-14T11:51:50.763043Z",
     "shell.execute_reply": "2023-03-14T11:51:50.761471Z",
     "shell.execute_reply.started": "2023-03-14T11:51:50.747232Z"
    },
    "papermill": {
     "duration": null,
     "end_time": null,
     "exception": null,
     "start_time": null,
     "status": "pending"
    },
    "tags": []
   },
   "outputs": [],
   "source": [
    "# debug\n",
    "agg_customer.head()"
   ]
  },
  {
   "cell_type": "markdown",
   "id": "c806e49c",
   "metadata": {
    "papermill": {
     "duration": null,
     "end_time": null,
     "exception": null,
     "start_time": null,
     "status": "pending"
    },
    "tags": []
   },
   "source": [
    "## 2.3 feature engineering for customer segmentation"
   ]
  },
  {
   "cell_type": "code",
   "execution_count": null,
   "id": "8c1dea0d",
   "metadata": {
    "papermill": {
     "duration": null,
     "end_time": null,
     "exception": null,
     "start_time": null,
     "status": "pending"
    },
    "tags": []
   },
   "outputs": [],
   "source": [
    "from sklearn.preprocessing import StandardScaler\n",
    "from sklearn.decomposition import PCA\n",
    "\n",
    "# interactive view, dashboard\n",
    "import plotly.express as px\n",
    "import plotly.graph_objs as pgo"
   ]
  },
  {
   "cell_type": "code",
   "execution_count": null,
   "id": "ce44ffa6",
   "metadata": {
    "execution": {
     "iopub.execute_input": "2023-03-14T14:42:40.370107Z",
     "iopub.status.busy": "2023-03-14T14:42:40.369611Z",
     "iopub.status.idle": "2023-03-14T14:42:40.446256Z",
     "shell.execute_reply": "2023-03-14T14:42:40.444782Z",
     "shell.execute_reply.started": "2023-03-14T14:42:40.370066Z"
    },
    "papermill": {
     "duration": null,
     "end_time": null,
     "exception": null,
     "start_time": null,
     "status": "pending"
    },
    "tags": []
   },
   "outputs": [],
   "source": [
    "# feature engineering\n",
    "#get convert categorical variables to binary variables \n",
    "features = agg_customer.drop(columns=['customer_state'])\n",
    "features = pd.get_dummies(data=features, columns=['payment_types','product_categories'])"
   ]
  },
  {
   "cell_type": "code",
   "execution_count": null,
   "id": "d97ebccf",
   "metadata": {
    "execution": {
     "iopub.execute_input": "2023-03-14T14:42:47.546365Z",
     "iopub.status.busy": "2023-03-14T14:42:47.545880Z",
     "iopub.status.idle": "2023-03-14T14:42:47.573306Z",
     "shell.execute_reply": "2023-03-14T14:42:47.571763Z",
     "shell.execute_reply.started": "2023-03-14T14:42:47.546318Z"
    },
    "papermill": {
     "duration": null,
     "end_time": null,
     "exception": null,
     "start_time": null,
     "status": "pending"
    },
    "tags": []
   },
   "outputs": [],
   "source": [
    "features.head()"
   ]
  },
  {
   "cell_type": "code",
   "execution_count": null,
   "id": "53664192",
   "metadata": {
    "execution": {
     "iopub.execute_input": "2023-03-14T14:42:53.043572Z",
     "iopub.status.busy": "2023-03-14T14:42:53.043106Z",
     "iopub.status.idle": "2023-03-14T14:42:53.068178Z",
     "shell.execute_reply": "2023-03-14T14:42:53.066890Z",
     "shell.execute_reply.started": "2023-03-14T14:42:53.043530Z"
    },
    "papermill": {
     "duration": null,
     "end_time": null,
     "exception": null,
     "start_time": null,
     "status": "pending"
    },
    "tags": []
   },
   "outputs": [],
   "source": [
    "X = features.sample(n=6000, replace=False, random_state=1).drop(columns=['customer_unique_id'])"
   ]
  },
  {
   "cell_type": "code",
   "execution_count": null,
   "id": "63f66fce",
   "metadata": {
    "execution": {
     "iopub.execute_input": "2023-03-14T14:43:01.131094Z",
     "iopub.status.busy": "2023-03-14T14:43:01.130640Z",
     "iopub.status.idle": "2023-03-14T14:43:01.149001Z",
     "shell.execute_reply": "2023-03-14T14:43:01.147574Z",
     "shell.execute_reply.started": "2023-03-14T14:43:01.131052Z"
    },
    "papermill": {
     "duration": null,
     "end_time": null,
     "exception": null,
     "start_time": null,
     "status": "pending"
    },
    "tags": []
   },
   "outputs": [],
   "source": [
    "scalar = StandardScaler()\n",
    "Xs = scalar.fit_transform(X)"
   ]
  },
  {
   "cell_type": "code",
   "execution_count": null,
   "id": "557bf511",
   "metadata": {
    "execution": {
     "iopub.execute_input": "2023-03-14T14:47:52.060157Z",
     "iopub.status.busy": "2023-03-14T14:47:52.058557Z",
     "iopub.status.idle": "2023-03-14T14:47:52.104310Z",
     "shell.execute_reply": "2023-03-14T14:47:52.102382Z",
     "shell.execute_reply.started": "2023-03-14T14:47:52.060104Z"
    },
    "papermill": {
     "duration": null,
     "end_time": null,
     "exception": null,
     "start_time": null,
     "status": "pending"
    },
    "tags": []
   },
   "outputs": [],
   "source": [
    "# initial test with max components\n",
    "pca = PCA(n_components=min(Xs.shape[0], Xs.shape[1]))\n",
    "d = pca.fit_transform(Xs)"
   ]
  },
  {
   "cell_type": "code",
   "execution_count": null,
   "id": "91d4deaf",
   "metadata": {
    "execution": {
     "iopub.execute_input": "2023-03-14T14:48:01.365683Z",
     "iopub.status.busy": "2023-03-14T14:48:01.364568Z",
     "iopub.status.idle": "2023-03-14T14:48:01.374879Z",
     "shell.execute_reply": "2023-03-14T14:48:01.372822Z",
     "shell.execute_reply.started": "2023-03-14T14:48:01.365633Z"
    },
    "papermill": {
     "duration": null,
     "end_time": null,
     "exception": null,
     "start_time": null,
     "status": "pending"
    },
    "tags": []
   },
   "outputs": [],
   "source": [
    "# first the first N components that explain at least 80% of total variance\n",
    "scree = pca.explained_variance_ratio_\n",
    "nbr_pca=0\n",
    "N=110\n",
    "for i in range(N):\n",
    "    a = scree.cumsum()[i]\n",
    "    if a >= 0.80:\n",
    "        print(\"{} principal components explain at least 80% of the total variance\".format(i))\n",
    "        print(\"Exact value of variance explained: {}%\".format(round(a*100,2)))\n",
    "        nbr_pca=i\n",
    "        break"
   ]
  },
  {
   "cell_type": "code",
   "execution_count": null,
   "id": "8de0a0c8",
   "metadata": {
    "execution": {
     "iopub.execute_input": "2023-03-14T14:48:44.271984Z",
     "iopub.status.busy": "2023-03-14T14:48:44.271035Z",
     "iopub.status.idle": "2023-03-14T14:48:44.368495Z",
     "shell.execute_reply": "2023-03-14T14:48:44.366658Z",
     "shell.execute_reply.started": "2023-03-14T14:48:44.271923Z"
    },
    "papermill": {
     "duration": null,
     "end_time": null,
     "exception": null,
     "start_time": null,
     "status": "pending"
    },
    "tags": []
   },
   "outputs": [],
   "source": [
    "# select component, re-engineering features\n",
    "pca = PCA(n_components=50)\n",
    "d=pca.fit_transform(Xs)\n",
    "\n",
    "data_pca=pd.DataFrame(d)\n",
    "col=[\"pca \"+ str(n+1) for n in data_pca.columns]\n",
    "data_pca.columns=col\n",
    "data_pca.head()"
   ]
  },
  {
   "cell_type": "code",
   "execution_count": null,
   "id": "09199f46",
   "metadata": {
    "execution": {
     "iopub.execute_input": "2023-03-14T14:49:01.172233Z",
     "iopub.status.busy": "2023-03-14T14:49:01.171794Z",
     "iopub.status.idle": "2023-03-14T14:49:01.244775Z",
     "shell.execute_reply": "2023-03-14T14:49:01.243381Z",
     "shell.execute_reply.started": "2023-03-14T14:49:01.172181Z"
    },
    "papermill": {
     "duration": null,
     "end_time": null,
     "exception": null,
     "start_time": null,
     "status": "pending"
    },
    "tags": []
   },
   "outputs": [],
   "source": [
    "labels = {\n",
    "    str(i): f\"PC {i+1} ({var:.1f}%)\"\n",
    "    for i, var in enumerate(pca.explained_variance_ratio_ * 100)\n",
    "}\n",
    "fig = px.scatter_matrix(\n",
    "    d,\n",
    "    labels=labels,\n",
    "    dimensions=range(3),\n",
    "    color=X[\"basket_size\"]\n",
    ")\n",
    "fig.update_traces(diagonal_visible=False)\n",
    "fig.show()"
   ]
  },
  {
   "cell_type": "code",
   "execution_count": null,
   "id": "b1407fbf",
   "metadata": {
    "execution": {
     "iopub.execute_input": "2023-03-14T14:49:22.217106Z",
     "iopub.status.busy": "2023-03-14T14:49:22.216653Z",
     "iopub.status.idle": "2023-03-14T14:49:22.293986Z",
     "shell.execute_reply": "2023-03-14T14:49:22.292674Z",
     "shell.execute_reply.started": "2023-03-14T14:49:22.217065Z"
    },
    "papermill": {
     "duration": null,
     "end_time": null,
     "exception": null,
     "start_time": null,
     "status": "pending"
    },
    "tags": []
   },
   "outputs": [],
   "source": [
    "total_var = pca.explained_variance_ratio_.sum() * 100\n",
    "\n",
    "fig = px.scatter_3d(\n",
    "    d, x=0, y=1, z=2, color=X[\"orders\"],\n",
    "    title=f'Total Explained Variance: {total_var:.2f}%',\n",
    "    labels={'0': 'PC 1', '1': 'PC 2', '2': 'PC 3'}\n",
    ")\n",
    "fig.show()"
   ]
  },
  {
   "cell_type": "markdown",
   "id": "77988d09",
   "metadata": {
    "papermill": {
     "duration": null,
     "end_time": null,
     "exception": null,
     "start_time": null,
     "status": "pending"
    },
    "tags": []
   },
   "source": [
    "# 3. Clustering"
   ]
  },
  {
   "cell_type": "markdown",
   "id": "4a0d5b64",
   "metadata": {
    "papermill": {
     "duration": null,
     "end_time": null,
     "exception": null,
     "start_time": null,
     "status": "pending"
    },
    "tags": []
   },
   "source": [
    "## 3.1 K-Means"
   ]
  },
  {
   "cell_type": "code",
   "execution_count": null,
   "id": "07765028",
   "metadata": {
    "execution": {
     "iopub.execute_input": "2023-03-14T15:06:18.822129Z",
     "iopub.status.busy": "2023-03-14T15:06:18.821673Z",
     "iopub.status.idle": "2023-03-14T15:06:18.830467Z",
     "shell.execute_reply": "2023-03-14T15:06:18.828370Z",
     "shell.execute_reply.started": "2023-03-14T15:06:18.822089Z"
    },
    "papermill": {
     "duration": null,
     "end_time": null,
     "exception": null,
     "start_time": null,
     "status": "pending"
    },
    "tags": []
   },
   "outputs": [],
   "source": [
    "# import library \n",
    "\n",
    "# K-Means clustering\n",
    "from sklearn.cluster import KMeans\n",
    "from sklearn.metrics import silhouette_score\n",
    "from sklearn.metrics import silhouette_score, silhouette_samples\n",
    "\n",
    "# plot\n",
    "import matplotlib.cm as cm\n",
    "from plotly.subplots import make_subplots\n",
    "import plotly.express as px\n",
    "import plotly.graph_objs as pgo\n"
   ]
  },
  {
   "cell_type": "code",
   "execution_count": null,
   "id": "ec6e81ee",
   "metadata": {
    "execution": {
     "iopub.execute_input": "2023-03-14T14:53:48.176373Z",
     "iopub.status.busy": "2023-03-14T14:53:48.175869Z",
     "iopub.status.idle": "2023-03-14T14:53:48.193039Z",
     "shell.execute_reply": "2023-03-14T14:53:48.191591Z",
     "shell.execute_reply.started": "2023-03-14T14:53:48.176331Z"
    },
    "papermill": {
     "duration": null,
     "end_time": null,
     "exception": null,
     "start_time": null,
     "status": "pending"
    },
    "tags": []
   },
   "outputs": [],
   "source": [
    "# use PCA selected features for modeling\n",
    "\n",
    "X=data_pca.copy()\n",
    "scaler=StandardScaler() \n",
    "Xs=scaler.fit_transform(X)"
   ]
  },
  {
   "cell_type": "code",
   "execution_count": null,
   "id": "2285db84",
   "metadata": {
    "execution": {
     "iopub.execute_input": "2023-03-14T14:44:16.453881Z",
     "iopub.status.busy": "2023-03-14T14:44:16.453353Z",
     "iopub.status.idle": "2023-03-14T14:44:28.224904Z",
     "shell.execute_reply": "2023-03-14T14:44:28.223507Z",
     "shell.execute_reply.started": "2023-03-14T14:44:16.453839Z"
    },
    "papermill": {
     "duration": null,
     "end_time": null,
     "exception": null,
     "start_time": null,
     "status": "pending"
    },
    "tags": []
   },
   "outputs": [],
   "source": [
    "# method 1: elbow method. \n",
    "# intertia is mean squared distance of instance and its closest centroid.\n",
    "wcss = []\n",
    "for i in range(1, 10):\n",
    "    kmeans = KMeans(n_clusters = i, init = \"k-means++\", max_iter = 500, n_init = 10, random_state = 123)\n",
    "    kmeans.fit(Xs)\n",
    "    wcss.append(kmeans.inertia_)\n",
    "\n",
    "fig = go.Figure(data = go.Scatter(x = [1,2,3,4,5,6,7,8,9,10], y = wcss))\n",
    "fig.update_layout(title='WCSS vs. Cluster number', xaxis_title='Clusters', yaxis_title='WCSS')\n",
    "fig.show()"
   ]
  },
  {
   "cell_type": "code",
   "execution_count": null,
   "id": "7c52fa93",
   "metadata": {
    "execution": {
     "iopub.execute_input": "2023-03-14T14:54:10.758989Z",
     "iopub.status.busy": "2023-03-14T14:54:10.758560Z",
     "iopub.status.idle": "2023-03-14T14:54:46.788744Z",
     "shell.execute_reply": "2023-03-14T14:54:46.787198Z",
     "shell.execute_reply.started": "2023-03-14T14:54:10.758950Z"
    },
    "papermill": {
     "duration": null,
     "end_time": null,
     "exception": null,
     "start_time": null,
     "status": "pending"
    },
    "tags": []
   },
   "outputs": [],
   "source": [
    "# method 2: silhouette score\n",
    "# silhouette score meants the relative distance of instance from neighbor centroids (b) and its own centroid (a). formula: (b-a)/max(a,b). Close to +1 is better. \n",
    "\n",
    "n_clusters=range(2,20)\n",
    "\n",
    "#n_clusters=[2,10,20,30,40,50]\n",
    "scores=[]\n",
    "for n in n_clusters:\n",
    "    #print('{} clusters...'.format(n))\n",
    "    kmeans = KMeans(n_clusters=n, random_state=0).fit(Xs)\n",
    "    labs=kmeans.labels_\n",
    "    score=silhouette_score(Xs,labs)\n",
    "    scores.append(score)"
   ]
  },
  {
   "cell_type": "code",
   "execution_count": null,
   "id": "273f5fc1",
   "metadata": {
    "execution": {
     "iopub.execute_input": "2023-03-14T14:54:50.933861Z",
     "iopub.status.busy": "2023-03-14T14:54:50.933418Z",
     "iopub.status.idle": "2023-03-14T14:54:50.999532Z",
     "shell.execute_reply": "2023-03-14T14:54:50.997889Z",
     "shell.execute_reply.started": "2023-03-14T14:54:50.933824Z"
    },
    "papermill": {
     "duration": null,
     "end_time": null,
     "exception": null,
     "start_time": null,
     "status": "pending"
    },
    "tags": []
   },
   "outputs": [],
   "source": [
    "# plot silhouette_score \n",
    "fig = px.line(x=n_clusters, y=scores, title='silhouette_score')\n",
    "fig.show()"
   ]
  },
  {
   "cell_type": "code",
   "execution_count": null,
   "id": "03ff5945",
   "metadata": {
    "execution": {
     "iopub.execute_input": "2023-03-14T14:55:13.100574Z",
     "iopub.status.busy": "2023-03-14T14:55:13.099582Z",
     "iopub.status.idle": "2023-03-14T14:55:13.107910Z",
     "shell.execute_reply": "2023-03-14T14:55:13.106572Z",
     "shell.execute_reply.started": "2023-03-14T14:55:13.100528Z"
    },
    "papermill": {
     "duration": null,
     "end_time": null,
     "exception": null,
     "start_time": null,
     "status": "pending"
    },
    "tags": []
   },
   "outputs": [],
   "source": [
    "SEED = 42\n",
    "def train_kmeans(X):\n",
    "  #ks = np.linspace(2, 8, 7, dtype=np.int64)\n",
    "  inertias = []\n",
    "  silhouettes = []\n",
    "  kmeans_k = []\n",
    "  for k in ks:\n",
    "    kmeans = KMeans(n_clusters=k, random_state=SEED)\n",
    "    kmeans.fit(X)\n",
    "\n",
    "    inertias.append(kmeans.inertia_)\n",
    "    silhouettes.append(silhouette_score(X, kmeans.labels_))\n",
    "    kmeans_k.append(kmeans)\n",
    "\n",
    "  return kmeans_k, inertias, silhouettes, ks"
   ]
  },
  {
   "cell_type": "code",
   "execution_count": null,
   "id": "7b8849c1",
   "metadata": {
    "execution": {
     "iopub.execute_input": "2023-03-14T14:55:34.484084Z",
     "iopub.status.busy": "2023-03-14T14:55:34.483090Z",
     "iopub.status.idle": "2023-03-14T14:55:48.241269Z",
     "shell.execute_reply": "2023-03-14T14:55:48.239583Z",
     "shell.execute_reply.started": "2023-03-14T14:55:34.484034Z"
    },
    "papermill": {
     "duration": null,
     "end_time": null,
     "exception": null,
     "start_time": null,
     "status": "pending"
    },
    "tags": []
   },
   "outputs": [],
   "source": [
    "ks = np.linspace(2, 8, 7, dtype=np.int64)\n",
    "kmeans_k, inertias, silhouettes = train_kmeans(Xs)"
   ]
  },
  {
   "cell_type": "markdown",
   "id": "9a8a9d03",
   "metadata": {
    "papermill": {
     "duration": null,
     "end_time": null,
     "exception": null,
     "start_time": null,
     "status": "pending"
    },
    "tags": []
   },
   "source": [
    "Viz reference\n",
    "https://github.com/alexandrehsd/Cluster-Analysis/blob/master/Silhouette%20Analysis.ipynb"
   ]
  },
  {
   "cell_type": "code",
   "execution_count": null,
   "id": "a90dd053",
   "metadata": {
    "execution": {
     "iopub.execute_input": "2023-03-14T15:06:37.838133Z",
     "iopub.status.busy": "2023-03-14T15:06:37.837315Z",
     "iopub.status.idle": "2023-03-14T15:06:39.362084Z",
     "shell.execute_reply": "2023-03-14T15:06:39.361044Z",
     "shell.execute_reply.started": "2023-03-14T15:06:37.838086Z"
    },
    "papermill": {
     "duration": null,
     "end_time": null,
     "exception": null,
     "start_time": null,
     "status": "pending"
    },
    "tags": []
   },
   "outputs": [],
   "source": [
    "# best number of clusters is 3\n",
    "N=6\n",
    "kmeans = KMeans(n_clusters=N, random_state=0).fit(Xs)\n",
    "labs=kmeans.labels_"
   ]
  },
  {
   "cell_type": "code",
   "execution_count": null,
   "id": "a9156a55",
   "metadata": {
    "execution": {
     "iopub.execute_input": "2023-03-14T15:08:23.674366Z",
     "iopub.status.busy": "2023-03-14T15:08:23.673917Z",
     "iopub.status.idle": "2023-03-14T15:08:23.696119Z",
     "shell.execute_reply": "2023-03-14T15:08:23.693915Z",
     "shell.execute_reply.started": "2023-03-14T15:08:23.674325Z"
    },
    "papermill": {
     "duration": null,
     "end_time": null,
     "exception": null,
     "start_time": null,
     "status": "pending"
    },
    "tags": []
   },
   "outputs": [],
   "source": [
    "# plot\n",
    "test2d = data_pca.loc[:,[\"pca 1\",\"pca 2\"]]\n",
    "test2d['cluster'] = labs\n",
    "test3d = data_pca.loc[:,[\"pca 1\",\"pca 2\",'pca 3']]\n",
    "test3d['cluster'] = labs\n",
    "\n",
    "fig = make_subplots(rows=1, cols=2)\n",
    "\n",
    "fig.add_trace(\n",
    "    go.scatter(test2d, x=\"pca 1\", y=\"pca 2\", color='cluster', title='2D'),\n",
    "    row=1, col=1\n",
    ")\n",
    "\n",
    "fig.add_trace(\n",
    "    px.scatter_3d(test3d, x='pca 1', y='pca 2', z='pca 3', color='cluster', title='3D'),\n",
    "    row=1, col=2\n",
    ")\n",
    "\n",
    "fig.update_layout(height=600, width=800, title_text=\"Side By Side Subplots\")\n",
    "fig.show()"
   ]
  },
  {
   "cell_type": "code",
   "execution_count": null,
   "id": "13e75915",
   "metadata": {
    "execution": {
     "iopub.execute_input": "2023-03-14T15:03:19.991764Z",
     "iopub.status.busy": "2023-03-14T15:03:19.990834Z",
     "iopub.status.idle": "2023-03-14T15:03:20.069301Z",
     "shell.execute_reply": "2023-03-14T15:03:20.067581Z",
     "shell.execute_reply.started": "2023-03-14T15:03:19.991713Z"
    },
    "papermill": {
     "duration": null,
     "end_time": null,
     "exception": null,
     "start_time": null,
     "status": "pending"
    },
    "tags": []
   },
   "outputs": [],
   "source": [
    "#2d plot\n",
    "test2d = data_pca.loc[:,[\"pca 1\",\"pca 2\"]]\n",
    "test2d['cluster'] = labs\n",
    "fig = px.scatter(test2d, x=\"pca 1\", y=\"pca 2\", color='cluster')\n",
    "fig.show()"
   ]
  },
  {
   "cell_type": "code",
   "execution_count": null,
   "id": "82924073",
   "metadata": {
    "execution": {
     "iopub.execute_input": "2023-03-14T15:03:12.879664Z",
     "iopub.status.busy": "2023-03-14T15:03:12.879217Z",
     "iopub.status.idle": "2023-03-14T15:03:12.958887Z",
     "shell.execute_reply": "2023-03-14T15:03:12.957221Z",
     "shell.execute_reply.started": "2023-03-14T15:03:12.879625Z"
    },
    "papermill": {
     "duration": null,
     "end_time": null,
     "exception": null,
     "start_time": null,
     "status": "pending"
    },
    "tags": []
   },
   "outputs": [],
   "source": [
    "# 3d plot\n",
    "\n",
    "test3d=data_pca.loc[:,[\"pca 1\",\"pca 2\",\"pca 3\"]]\n",
    "test3d[\"cluster\"]=labs\n",
    "\n",
    "fig = px.scatter_3d(\n",
    "    test3d, x='pca 1', y='pca 2', z='pca 3', color='cluster',\n",
    "    title=f'Number of clusters is 3',\n",
    ")\n",
    "fig.show()"
   ]
  },
  {
   "cell_type": "code",
   "execution_count": null,
   "id": "7bfdc0d4",
   "metadata": {
    "_kg_hide-input": true,
    "execution": {
     "iopub.execute_input": "2023-03-14T14:40:55.202218Z",
     "iopub.status.busy": "2023-03-14T14:40:55.201780Z",
     "iopub.status.idle": "2023-03-14T14:41:03.143094Z",
     "shell.execute_reply": "2023-03-14T14:41:03.141998Z",
     "shell.execute_reply.started": "2023-03-14T14:40:55.202182Z"
    },
    "papermill": {
     "duration": null,
     "end_time": null,
     "exception": null,
     "start_time": null,
     "status": "pending"
    },
    "tags": []
   },
   "outputs": [],
   "source": [
    "# method 3\n",
    "\n",
    "range_n_clusters = [2,3,4,5,6]\n",
    "\n",
    "fig, ax = plt.subplots(5, 2, figsize=(16, 20))\n",
    "for row, n_clusters in enumerate(range_n_clusters):\n",
    "\n",
    "  # The 1st subplot is the silhouette plot\n",
    "  # The silhouette coefficient can range from -1, 1 but in this example all lie within [-0.1, 1]\n",
    "  ax[row, 0].set_xlim([-0.1, 1])\n",
    "\n",
    "  # The (n_clusters+1)*10 is for inserting blank space between silhouette\n",
    "  # plots of individual clusters, to demarcate them clearly.\n",
    "  ax[row, 0].set_ylim([0, len(Xs) + (n_clusters + 1) * 10])\n",
    "\n",
    "  # get predictions for each label\n",
    "  cluster_labels = kmeans_k[n_clusters-2].predict(Xs)\n",
    "\n",
    "  # The silhouette_score gives the average value for all the samples.\n",
    "  # This gives a perspective into the density and separation of the formed clusters\n",
    "  silhouette_avg = silhouette_score(Xs, cluster_labels)\n",
    "  print(\"For n_clusters =\", n_clusters, \", the average silhouette_score is :\", silhouette_avg)\n",
    "  \n",
    "  # Compute the silhouette score for each sample\n",
    "  sample_silhouette_values = silhouette_samples(Xs, cluster_labels)\n",
    "\n",
    "  y_lower = 10\n",
    "  for i in range(n_clusters):\n",
    "    # Aggregate the silhouette scores for samples belonging to # cluster i, and sort them\n",
    "    ith_cluster_silhouette_values = sample_silhouette_values[cluster_labels == i]\n",
    "    ith_cluster_silhouette_values.sort()\n",
    "\n",
    "    size_cluster_i = ith_cluster_silhouette_values.shape[0]\n",
    "    y_upper = y_lower + size_cluster_i\n",
    "    \n",
    "    color = cm.nipy_spectral(float(i) / n_clusters)\n",
    "    ax[row, 0].fill_betweenx(np.arange(y_lower, y_upper), 0, ith_cluster_silhouette_values,facecolor=color, edgecolor=color, alpha=0.7)\n",
    "\n",
    "    # Label the silhouette plots with their cluster numbers at the middle\n",
    "    ax[row, 0].text(-0.05, y_lower + 0.5 * size_cluster_i, str(i))\n",
    "\n",
    "    # Compute the new y_lower for next plot\n",
    "    y_lower = y_upper + 10  # 10 for the 0 samples\n",
    "\n",
    "  ax[row, 0].set_title(\"Silhouette diagram with = {}\".format(n_clusters), fontsize=16)\n",
    "  ax[row, 0].set_xlabel(\"Silhouette coefficient values\", fontsize=14)\n",
    "  ax[row, 0].set_ylabel(\"Cluster label\", fontsize=12)\n",
    "  \n",
    "  ax[row, 0].set_yticks([])  # Clear the yaxis labels / ticks\n",
    "  ax[row, 0].set_xticks([0, 0.2, 0.4, 0.6, 0.8, 1])\n",
    "  ax[row, 0].tick_params(axis='both', which='major', labelsize=12)\n",
    "\n",
    "  # The vertical line for average silhouette score of all the values\n",
    "  ax[row, 0].axvline(x=silhouette_avg, color=\"black\", linestyle=\"--\", linewidth=2)\n",
    "\n",
    "  ## right side of chart\n",
    "  colors = cm.nipy_spectral(cluster_labels.astype(float) / n_clusters)\n",
    "  ax[row, 1].scatter(Xs[:, 0], Xs[:, 1], marker='.', s=30, lw=0, alpha=0.7, c=colors, edgecolor='k')\n",
    "  \n",
    "  # Labeling the clusters\n",
    "  centers = kmeans_k[n_clusters-2].cluster_centers_\n",
    "  # Draw white circles at cluster centers\n",
    "  ax[row, 1].scatter(centers[:, 0], centers[:, 1], marker='o', c=\"white\", alpha=1, s=200, edgecolor='k')\n",
    "  \n",
    "  for i, c in enumerate(centers):\n",
    "    #ax[row, 1].scatter(c[0], c[1], marker=' '% i, alpha=1,s=50, edgecolor='k')\n",
    "    ax[row, 1].scatter(c[0], c[1], marker='.', alpha=1,s=50, edgecolor='k')\n",
    "\n",
    "  ax[row, 1].set_title(f\"Clustered data with k = {n_clusters}\", fontsize=16)\n",
    "  ax[row, 1].set_xlabel(\"\", fontsize=14)\n",
    "  ax[row, 1].set_ylabel(\"\", fontsize=14)\n",
    "  ax[row, 1].set_yticks([]) \n",
    "  ax[row, 1].set_xticks([])\n",
    "\n",
    "  ax[row, 1].grid(False)\n",
    "\n",
    "  # fig.suptitle((\"Silhouette analysis for KMeans clustering \"with = %d\" % n_clusters), fontsize=14, fontweight='bold')\n",
    "\n",
    "plt.tight_layout()\n",
    "#plt.savefig(\"silhouette_diagram.png\", dpi=650, transparent=False)\n",
    "plt.show()\n",
    "     "
   ]
  },
  {
   "cell_type": "markdown",
   "id": "d8a6e632",
   "metadata": {
    "papermill": {
     "duration": null,
     "end_time": null,
     "exception": null,
     "start_time": null,
     "status": "pending"
    },
    "tags": []
   },
   "source": [
    "# Hierarchical Clustering (TODO)"
   ]
  },
  {
   "cell_type": "code",
   "execution_count": null,
   "id": "9d938c16",
   "metadata": {
    "execution": {
     "iopub.execute_input": "2023-03-14T14:03:13.899603Z",
     "iopub.status.busy": "2023-03-14T14:03:13.899113Z",
     "iopub.status.idle": "2023-03-14T14:03:13.910784Z",
     "shell.execute_reply": "2023-03-14T14:03:13.908997Z",
     "shell.execute_reply.started": "2023-03-14T14:03:13.899559Z"
    },
    "papermill": {
     "duration": null,
     "end_time": null,
     "exception": null,
     "start_time": null,
     "status": "pending"
    },
    "tags": []
   },
   "outputs": [],
   "source": [
    "labs"
   ]
  }
 ],
 "metadata": {
  "kernelspec": {
   "display_name": "Python 3",
   "language": "python",
   "name": "python3"
  },
  "language_info": {
   "codemirror_mode": {
    "name": "ipython",
    "version": 3
   },
   "file_extension": ".py",
   "mimetype": "text/x-python",
   "name": "python",
   "nbconvert_exporter": "python",
   "pygments_lexer": "ipython3",
   "version": "3.7.12"
  },
  "papermill": {
   "default_parameters": {},
   "duration": 30.874775,
   "end_time": "2023-03-14T15:09:36.120949",
   "environment_variables": {},
   "exception": true,
   "input_path": "__notebook__.ipynb",
   "output_path": "__notebook__.ipynb",
   "parameters": {},
   "start_time": "2023-03-14T15:09:05.246174",
   "version": "2.4.0"
  }
 },
 "nbformat": 4,
 "nbformat_minor": 5
}
