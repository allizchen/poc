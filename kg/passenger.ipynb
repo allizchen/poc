{
 "cells": [
  {
   "cell_type": "code",
   "execution_count": 1,
   "id": "2cbea102",
   "metadata": {
    "execution": {
     "iopub.execute_input": "2023-03-16T04:13:18.302997Z",
     "iopub.status.busy": "2023-03-16T04:13:18.302585Z",
     "iopub.status.idle": "2023-03-16T04:13:18.314270Z",
     "shell.execute_reply": "2023-03-16T04:13:18.313117Z"
    },
    "papermill": {
     "duration": 0.021971,
     "end_time": "2023-03-16T04:13:18.317095",
     "exception": false,
     "start_time": "2023-03-16T04:13:18.295124",
     "status": "completed"
    },
    "tags": []
   },
   "outputs": [],
   "source": [
    "import pandas as pd\n",
    "import numpy as np\n",
    "import time\n",
    "from datetime import date"
   ]
  },
  {
   "cell_type": "code",
   "execution_count": 2,
   "id": "ad019c82",
   "metadata": {
    "execution": {
     "iopub.execute_input": "2023-03-16T04:13:18.328186Z",
     "iopub.status.busy": "2023-03-16T04:13:18.327210Z",
     "iopub.status.idle": "2023-03-16T04:13:18.377891Z",
     "shell.execute_reply": "2023-03-16T04:13:18.376689Z"
    },
    "papermill": {
     "duration": 0.059719,
     "end_time": "2023-03-16T04:13:18.381112",
     "exception": false,
     "start_time": "2023-03-16T04:13:18.321393",
     "status": "completed"
    },
    "tags": []
   },
   "outputs": [],
   "source": [
    "df = pd.read_csv('/kaggle/input/cabspotting/new_abboip.txt'\n",
    "                 ,sep=' '\n",
    "                 , header=None, names=['lat','long','occupancy','time']\n",
    "                )"
   ]
  },
  {
   "cell_type": "code",
   "execution_count": 3,
   "id": "c8575911",
   "metadata": {
    "execution": {
     "iopub.execute_input": "2023-03-16T04:13:18.391893Z",
     "iopub.status.busy": "2023-03-16T04:13:18.391413Z",
     "iopub.status.idle": "2023-03-16T04:13:18.405339Z",
     "shell.execute_reply": "2023-03-16T04:13:18.404195Z"
    },
    "papermill": {
     "duration": 0.022425,
     "end_time": "2023-03-16T04:13:18.407807",
     "exception": false,
     "start_time": "2023-03-16T04:13:18.385382",
     "status": "completed"
    },
    "tags": []
   },
   "outputs": [
    {
     "data": {
      "text/plain": [
       "lat          float64\n",
       "long         float64\n",
       "occupancy      int64\n",
       "time           int64\n",
       "dtype: object"
      ]
     },
     "execution_count": 3,
     "metadata": {},
     "output_type": "execute_result"
    }
   ],
   "source": [
    "df.dtypes"
   ]
  },
  {
   "cell_type": "code",
   "execution_count": 4,
   "id": "cf56e8f8",
   "metadata": {
    "execution": {
     "iopub.execute_input": "2023-03-16T04:13:18.418145Z",
     "iopub.status.busy": "2023-03-16T04:13:18.417524Z",
     "iopub.status.idle": "2023-03-16T04:13:18.432686Z",
     "shell.execute_reply": "2023-03-16T04:13:18.431025Z"
    },
    "papermill": {
     "duration": 0.023935,
     "end_time": "2023-03-16T04:13:18.435821",
     "exception": false,
     "start_time": "2023-03-16T04:13:18.411886",
     "status": "completed"
    },
    "tags": []
   },
   "outputs": [],
   "source": [
    "#1211033530\n",
    "df['time']=pd.to_datetime(df['time'], utc=True, unit='s' )"
   ]
  },
  {
   "cell_type": "code",
   "execution_count": null,
   "id": "0acbf3b0",
   "metadata": {
    "execution": {
     "iopub.execute_input": "2023-03-16T02:22:59.698879Z",
     "iopub.status.busy": "2023-03-16T02:22:59.698444Z",
     "iopub.status.idle": "2023-03-16T02:22:59.704682Z",
     "shell.execute_reply": "2023-03-16T02:22:59.703273Z",
     "shell.execute_reply.started": "2023-03-16T02:22:59.698841Z"
    },
    "papermill": {
     "duration": 0.00362,
     "end_time": "2023-03-16T04:13:18.443420",
     "exception": false,
     "start_time": "2023-03-16T04:13:18.439800",
     "status": "completed"
    },
    "tags": []
   },
   "outputs": [],
   "source": []
  },
  {
   "cell_type": "code",
   "execution_count": 5,
   "id": "aa85f59e",
   "metadata": {
    "execution": {
     "iopub.execute_input": "2023-03-16T04:13:18.454221Z",
     "iopub.status.busy": "2023-03-16T04:13:18.453077Z",
     "iopub.status.idle": "2023-03-16T04:13:18.459694Z",
     "shell.execute_reply": "2023-03-16T04:13:18.458292Z"
    },
    "papermill": {
     "duration": 0.015235,
     "end_time": "2023-03-16T04:13:18.462544",
     "exception": false,
     "start_time": "2023-03-16T04:13:18.447309",
     "status": "completed"
    },
    "tags": []
   },
   "outputs": [],
   "source": [
    "size = len(df['occupancy'])"
   ]
  },
  {
   "cell_type": "code",
   "execution_count": 6,
   "id": "9c79f628",
   "metadata": {
    "execution": {
     "iopub.execute_input": "2023-03-16T04:13:18.474058Z",
     "iopub.status.busy": "2023-03-16T04:13:18.472492Z",
     "iopub.status.idle": "2023-03-16T04:13:21.630589Z",
     "shell.execute_reply": "2023-03-16T04:13:21.628668Z"
    },
    "papermill": {
     "duration": 3.167069,
     "end_time": "2023-03-16T04:13:21.633758",
     "exception": false,
     "start_time": "2023-03-16T04:13:18.466689",
     "status": "completed"
    },
    "tags": []
   },
   "outputs": [
    {
     "name": "stderr",
     "output_type": "stream",
     "text": [
      "/opt/conda/lib/python3.7/site-packages/ipykernel_launcher.py:6: SettingWithCopyWarning: \n",
      "A value is trying to be set on a copy of a slice from a DataFrame\n",
      "\n",
      "See the caveats in the documentation: https://pandas.pydata.org/pandas-docs/stable/user_guide/indexing.html#returning-a-view-versus-a-copy\n",
      "  \n",
      "/opt/conda/lib/python3.7/site-packages/ipykernel_launcher.py:7: SettingWithCopyWarning: \n",
      "A value is trying to be set on a copy of a slice from a DataFrame\n",
      "\n",
      "See the caveats in the documentation: https://pandas.pydata.org/pandas-docs/stable/user_guide/indexing.html#returning-a-view-versus-a-copy\n",
      "  import sys\n",
      "/opt/conda/lib/python3.7/site-packages/ipykernel_launcher.py:13: SettingWithCopyWarning: \n",
      "A value is trying to be set on a copy of a slice from a DataFrame\n",
      "\n",
      "See the caveats in the documentation: https://pandas.pydata.org/pandas-docs/stable/user_guide/indexing.html#returning-a-view-versus-a-copy\n",
      "  del sys.path[0]\n",
      "/opt/conda/lib/python3.7/site-packages/ipykernel_launcher.py:14: SettingWithCopyWarning: \n",
      "A value is trying to be set on a copy of a slice from a DataFrame\n",
      "\n",
      "See the caveats in the documentation: https://pandas.pydata.org/pandas-docs/stable/user_guide/indexing.html#returning-a-view-versus-a-copy\n",
      "  \n",
      "/opt/conda/lib/python3.7/site-packages/ipykernel_launcher.py:17: SettingWithCopyWarning: \n",
      "A value is trying to be set on a copy of a slice from a DataFrame\n",
      "\n",
      "See the caveats in the documentation: https://pandas.pydata.org/pandas-docs/stable/user_guide/indexing.html#returning-a-view-versus-a-copy\n",
      "  app.launch_new_instance()\n",
      "/opt/conda/lib/python3.7/site-packages/ipykernel_launcher.py:18: SettingWithCopyWarning: \n",
      "A value is trying to be set on a copy of a slice from a DataFrame\n",
      "\n",
      "See the caveats in the documentation: https://pandas.pydata.org/pandas-docs/stable/user_guide/indexing.html#returning-a-view-versus-a-copy\n",
      "/opt/conda/lib/python3.7/site-packages/ipykernel_launcher.py:19: SettingWithCopyWarning: \n",
      "A value is trying to be set on a copy of a slice from a DataFrame\n",
      "\n",
      "See the caveats in the documentation: https://pandas.pydata.org/pandas-docs/stable/user_guide/indexing.html#returning-a-view-versus-a-copy\n",
      "/opt/conda/lib/python3.7/site-packages/ipykernel_launcher.py:21: SettingWithCopyWarning: \n",
      "A value is trying to be set on a copy of a slice from a DataFrame\n",
      "\n",
      "See the caveats in the documentation: https://pandas.pydata.org/pandas-docs/stable/user_guide/indexing.html#returning-a-view-versus-a-copy\n",
      "/opt/conda/lib/python3.7/site-packages/ipykernel_launcher.py:22: SettingWithCopyWarning: \n",
      "A value is trying to be set on a copy of a slice from a DataFrame\n",
      "\n",
      "See the caveats in the documentation: https://pandas.pydata.org/pandas-docs/stable/user_guide/indexing.html#returning-a-view-versus-a-copy\n"
     ]
    }
   ],
   "source": [
    "df['trip_no'] = list(range(size))\n",
    "df['trip_status'] = list(range(size))\n",
    "\n",
    "curr_trip_no = 1\n",
    "curr_occupancy = df['occupancy'][0]\n",
    "df['trip_no'][0] = curr_trip_no\n",
    "df['trip_status'][0] = 0 # start:0, in-trip:1, end:2\n",
    "\n",
    "for i in range(1, size-1):\n",
    "    pre_occupancy = curr_occupancy\n",
    "    curr_occupancy = df['occupancy'][i]\n",
    "    if  curr_occupancy == pre_occupancy: # in-trip\n",
    "        df['trip_no'][i] = curr_trip_no\n",
    "        df['trip_status'][i] = 1\n",
    "    else: # trip end\n",
    "        curr_trip_no = curr_trip_no+1\n",
    "        df['trip_no'][i] = curr_trip_no\n",
    "        df['trip_status'][i] = 0\n",
    "        df['trip_status'][i-1] = 2 ## update the status of previous step to 'end'\n",
    "# update the last row\n",
    "df['trip_no'][size-1] = curr_trip_no\n",
    "df['trip_status'][size-1] = 2"
   ]
  },
  {
   "cell_type": "code",
   "execution_count": 7,
   "id": "17188b7e",
   "metadata": {
    "execution": {
     "iopub.execute_input": "2023-03-16T04:13:21.645375Z",
     "iopub.status.busy": "2023-03-16T04:13:21.643963Z",
     "iopub.status.idle": "2023-03-16T04:13:21.672981Z",
     "shell.execute_reply": "2023-03-16T04:13:21.671341Z"
    },
    "papermill": {
     "duration": 0.037769,
     "end_time": "2023-03-16T04:13:21.675833",
     "exception": false,
     "start_time": "2023-03-16T04:13:21.638064",
     "status": "completed"
    },
    "tags": []
   },
   "outputs": [],
   "source": [
    "df_start = df.groupby('trip_no').agg({\n",
    "    'lat':'min',\n",
    "    'long':'min',\n",
    "    'time':'min'\n",
    "}).reset_index().rename(\n",
    "    columns={\n",
    "        'lat':'lat_start',\n",
    "        'long':'long_start',\n",
    "        'time':'time_start'\n",
    "    }\n",
    ")\n",
    "\n",
    "df_end = df.groupby('trip_no').agg({\n",
    "    'lat':'max',\n",
    "    'long':'max',\n",
    "    'time':'max'\n",
    "}).reset_index().rename(\n",
    "    columns={\n",
    "        'lat':'lat_end',\n",
    "        'long':'long_end',\n",
    "        'time':'time_end'\n",
    "    }\n",
    ")"
   ]
  },
  {
   "cell_type": "code",
   "execution_count": 8,
   "id": "97ac77b8",
   "metadata": {
    "execution": {
     "iopub.execute_input": "2023-03-16T04:13:21.686596Z",
     "iopub.status.busy": "2023-03-16T04:13:21.686104Z",
     "iopub.status.idle": "2023-03-16T04:13:21.704441Z",
     "shell.execute_reply": "2023-03-16T04:13:21.702995Z"
    },
    "papermill": {
     "duration": 0.027759,
     "end_time": "2023-03-16T04:13:21.707782",
     "exception": false,
     "start_time": "2023-03-16T04:13:21.680023",
     "status": "completed"
    },
    "tags": []
   },
   "outputs": [],
   "source": [
    "df_trip = pd.DataFrame.merge(df_start,df_end, on='trip_no', how='inner')"
   ]
  },
  {
   "cell_type": "code",
   "execution_count": 9,
   "id": "550547af",
   "metadata": {
    "execution": {
     "iopub.execute_input": "2023-03-16T04:13:21.719511Z",
     "iopub.status.busy": "2023-03-16T04:13:21.718268Z",
     "iopub.status.idle": "2023-03-16T04:13:21.753719Z",
     "shell.execute_reply": "2023-03-16T04:13:21.752338Z"
    },
    "papermill": {
     "duration": 0.045451,
     "end_time": "2023-03-16T04:13:21.757616",
     "exception": false,
     "start_time": "2023-03-16T04:13:21.712165",
     "status": "completed"
    },
    "tags": []
   },
   "outputs": [
    {
     "data": {
      "text/html": [
       "<div>\n",
       "<style scoped>\n",
       "    .dataframe tbody tr th:only-of-type {\n",
       "        vertical-align: middle;\n",
       "    }\n",
       "\n",
       "    .dataframe tbody tr th {\n",
       "        vertical-align: top;\n",
       "    }\n",
       "\n",
       "    .dataframe thead th {\n",
       "        text-align: right;\n",
       "    }\n",
       "</style>\n",
       "<table border=\"1\" class=\"dataframe\">\n",
       "  <thead>\n",
       "    <tr style=\"text-align: right;\">\n",
       "      <th></th>\n",
       "      <th>trip_no</th>\n",
       "      <th>lat_start</th>\n",
       "      <th>long_start</th>\n",
       "      <th>time_start</th>\n",
       "      <th>lat_end</th>\n",
       "      <th>long_end</th>\n",
       "      <th>time_end</th>\n",
       "    </tr>\n",
       "  </thead>\n",
       "  <tbody>\n",
       "    <tr>\n",
       "      <th>0</th>\n",
       "      <td>1</td>\n",
       "      <td>37.74978</td>\n",
       "      <td>-122.39709</td>\n",
       "      <td>2008-05-17 14:12:10+00:00</td>\n",
       "      <td>37.75153</td>\n",
       "      <td>-122.39446</td>\n",
       "      <td>2008-05-17 14:50:44+00:00</td>\n",
       "    </tr>\n",
       "    <tr>\n",
       "      <th>1</th>\n",
       "      <td>2</td>\n",
       "      <td>37.74831</td>\n",
       "      <td>-122.41438</td>\n",
       "      <td>2008-05-17 14:51:10+00:00</td>\n",
       "      <td>37.75552</td>\n",
       "      <td>-122.39724</td>\n",
       "      <td>2008-05-17 14:55:58+00:00</td>\n",
       "    </tr>\n",
       "    <tr>\n",
       "      <th>2</th>\n",
       "      <td>3</td>\n",
       "      <td>37.75042</td>\n",
       "      <td>-122.42291</td>\n",
       "      <td>2008-05-17 14:56:00+00:00</td>\n",
       "      <td>37.76523</td>\n",
       "      <td>-122.41441</td>\n",
       "      <td>2008-05-17 15:17:55+00:00</td>\n",
       "    </tr>\n",
       "    <tr>\n",
       "      <th>3</th>\n",
       "      <td>4</td>\n",
       "      <td>37.75053</td>\n",
       "      <td>-122.43101</td>\n",
       "      <td>2008-05-17 15:18:06+00:00</td>\n",
       "      <td>37.75206</td>\n",
       "      <td>-122.42086</td>\n",
       "      <td>2008-05-17 15:21:48+00:00</td>\n",
       "    </tr>\n",
       "    <tr>\n",
       "      <th>4</th>\n",
       "      <td>5</td>\n",
       "      <td>37.74833</td>\n",
       "      <td>-122.43172</td>\n",
       "      <td>2008-05-17 15:21:50+00:00</td>\n",
       "      <td>37.77219</td>\n",
       "      <td>-122.41402</td>\n",
       "      <td>2008-05-17 15:43:15+00:00</td>\n",
       "    </tr>\n",
       "    <tr>\n",
       "      <th>...</th>\n",
       "      <td>...</td>\n",
       "      <td>...</td>\n",
       "      <td>...</td>\n",
       "      <td>...</td>\n",
       "      <td>...</td>\n",
       "      <td>...</td>\n",
       "      <td>...</td>\n",
       "    </tr>\n",
       "    <tr>\n",
       "      <th>1910</th>\n",
       "      <td>1911</td>\n",
       "      <td>37.75770</td>\n",
       "      <td>-122.43499</td>\n",
       "      <td>2008-06-10 07:11:20+00:00</td>\n",
       "      <td>37.76873</td>\n",
       "      <td>-122.42852</td>\n",
       "      <td>2008-06-10 07:19:00+00:00</td>\n",
       "    </tr>\n",
       "    <tr>\n",
       "      <th>1911</th>\n",
       "      <td>1912</td>\n",
       "      <td>37.76873</td>\n",
       "      <td>-122.43719</td>\n",
       "      <td>2008-06-10 07:19:15+00:00</td>\n",
       "      <td>37.77208</td>\n",
       "      <td>-122.42900</td>\n",
       "      <td>2008-06-10 07:22:50+00:00</td>\n",
       "    </tr>\n",
       "    <tr>\n",
       "      <th>1912</th>\n",
       "      <td>1913</td>\n",
       "      <td>37.77209</td>\n",
       "      <td>-122.43918</td>\n",
       "      <td>2008-06-10 07:23:21+00:00</td>\n",
       "      <td>37.78719</td>\n",
       "      <td>-122.41689</td>\n",
       "      <td>2008-06-10 07:36:24+00:00</td>\n",
       "    </tr>\n",
       "    <tr>\n",
       "      <th>1913</th>\n",
       "      <td>1914</td>\n",
       "      <td>37.78740</td>\n",
       "      <td>-122.41527</td>\n",
       "      <td>2008-06-10 07:36:55+00:00</td>\n",
       "      <td>37.79779</td>\n",
       "      <td>-122.40405</td>\n",
       "      <td>2008-06-10 07:41:55+00:00</td>\n",
       "    </tr>\n",
       "    <tr>\n",
       "      <th>1914</th>\n",
       "      <td>1915</td>\n",
       "      <td>37.75015</td>\n",
       "      <td>-122.40647</td>\n",
       "      <td>2008-06-10 07:42:16+00:00</td>\n",
       "      <td>37.79838</td>\n",
       "      <td>-122.38844</td>\n",
       "      <td>2008-06-10 07:58:07+00:00</td>\n",
       "    </tr>\n",
       "  </tbody>\n",
       "</table>\n",
       "<p>1915 rows × 7 columns</p>\n",
       "</div>"
      ],
      "text/plain": [
       "      trip_no  lat_start  long_start                time_start   lat_end  \\\n",
       "0           1   37.74978  -122.39709 2008-05-17 14:12:10+00:00  37.75153   \n",
       "1           2   37.74831  -122.41438 2008-05-17 14:51:10+00:00  37.75552   \n",
       "2           3   37.75042  -122.42291 2008-05-17 14:56:00+00:00  37.76523   \n",
       "3           4   37.75053  -122.43101 2008-05-17 15:18:06+00:00  37.75206   \n",
       "4           5   37.74833  -122.43172 2008-05-17 15:21:50+00:00  37.77219   \n",
       "...       ...        ...         ...                       ...       ...   \n",
       "1910     1911   37.75770  -122.43499 2008-06-10 07:11:20+00:00  37.76873   \n",
       "1911     1912   37.76873  -122.43719 2008-06-10 07:19:15+00:00  37.77208   \n",
       "1912     1913   37.77209  -122.43918 2008-06-10 07:23:21+00:00  37.78719   \n",
       "1913     1914   37.78740  -122.41527 2008-06-10 07:36:55+00:00  37.79779   \n",
       "1914     1915   37.75015  -122.40647 2008-06-10 07:42:16+00:00  37.79838   \n",
       "\n",
       "       long_end                  time_end  \n",
       "0    -122.39446 2008-05-17 14:50:44+00:00  \n",
       "1    -122.39724 2008-05-17 14:55:58+00:00  \n",
       "2    -122.41441 2008-05-17 15:17:55+00:00  \n",
       "3    -122.42086 2008-05-17 15:21:48+00:00  \n",
       "4    -122.41402 2008-05-17 15:43:15+00:00  \n",
       "...         ...                       ...  \n",
       "1910 -122.42852 2008-06-10 07:19:00+00:00  \n",
       "1911 -122.42900 2008-06-10 07:22:50+00:00  \n",
       "1912 -122.41689 2008-06-10 07:36:24+00:00  \n",
       "1913 -122.40405 2008-06-10 07:41:55+00:00  \n",
       "1914 -122.38844 2008-06-10 07:58:07+00:00  \n",
       "\n",
       "[1915 rows x 7 columns]"
      ]
     },
     "execution_count": 9,
     "metadata": {},
     "output_type": "execute_result"
    }
   ],
   "source": [
    "df_trip"
   ]
  },
  {
   "cell_type": "code",
   "execution_count": 10,
   "id": "9d05e25e",
   "metadata": {
    "execution": {
     "iopub.execute_input": "2023-03-16T04:13:21.770357Z",
     "iopub.status.busy": "2023-03-16T04:13:21.769516Z",
     "iopub.status.idle": "2023-03-16T04:13:21.779322Z",
     "shell.execute_reply": "2023-03-16T04:13:21.777851Z"
    },
    "papermill": {
     "duration": 0.019104,
     "end_time": "2023-03-16T04:13:21.781951",
     "exception": false,
     "start_time": "2023-03-16T04:13:21.762847",
     "status": "completed"
    },
    "tags": []
   },
   "outputs": [
    {
     "data": {
      "text/plain": [
       "trip_no                     int64\n",
       "lat_start                 float64\n",
       "long_start                float64\n",
       "time_start    datetime64[ns, UTC]\n",
       "lat_end                   float64\n",
       "long_end                  float64\n",
       "time_end      datetime64[ns, UTC]\n",
       "dtype: object"
      ]
     },
     "execution_count": 10,
     "metadata": {},
     "output_type": "execute_result"
    }
   ],
   "source": [
    "df_trip.dtypes"
   ]
  },
  {
   "cell_type": "code",
   "execution_count": 11,
   "id": "3efe9364",
   "metadata": {
    "execution": {
     "iopub.execute_input": "2023-03-16T04:13:21.793299Z",
     "iopub.status.busy": "2023-03-16T04:13:21.792782Z",
     "iopub.status.idle": "2023-03-16T04:13:21.798455Z",
     "shell.execute_reply": "2023-03-16T04:13:21.797267Z"
    },
    "papermill": {
     "duration": 0.014155,
     "end_time": "2023-03-16T04:13:21.800815",
     "exception": false,
     "start_time": "2023-03-16T04:13:21.786660",
     "status": "completed"
    },
    "tags": []
   },
   "outputs": [],
   "source": [
    "#df_trip['duration'] = df_trip[['time_start','time_end']].apply(lambda x: pd.Timedelta(x.time_end,x.time_start).seconds )"
   ]
  }
 ],
 "metadata": {
  "kernelspec": {
   "display_name": "Python 3",
   "language": "python",
   "name": "python3"
  },
  "language_info": {
   "codemirror_mode": {
    "name": "ipython",
    "version": 3
   },
   "file_extension": ".py",
   "mimetype": "text/x-python",
   "name": "python",
   "nbconvert_exporter": "python",
   "pygments_lexer": "ipython3",
   "version": "3.7.12"
  },
  "papermill": {
   "default_parameters": {},
   "duration": 15.856763,
   "end_time": "2023-03-16T04:13:22.731649",
   "environment_variables": {},
   "exception": null,
   "input_path": "__notebook__.ipynb",
   "output_path": "__notebook__.ipynb",
   "parameters": {},
   "start_time": "2023-03-16T04:13:06.874886",
   "version": "2.4.0"
  }
 },
 "nbformat": 4,
 "nbformat_minor": 5
}
